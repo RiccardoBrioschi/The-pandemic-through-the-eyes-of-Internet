{
 "cells": [
  {
   "cell_type": "code",
   "execution_count": 4,
   "id": "15cdce6b-798e-40a4-97ee-a4269544916c",
   "metadata": {},
   "outputs": [],
   "source": [
    "import tweepy\n",
    "import requests\n",
    "import os\n",
    "import json"
   ]
  },
  {
   "cell_type": "code",
   "execution_count": 5,
   "id": "36209937-4f25-462f-aea4-de2c10eb2ae4",
   "metadata": {},
   "outputs": [],
   "source": [
    "bearer_token_balsa = \"AAAAAAAAAAAAAAAAAAAAAPXlYgEAAAAAmHO9bfJYAPCZSDa8%2BHELxeAfwgQ%3D91B98esE93293wEGbjH4JsUMe7R3wDok1ZCGNGLLvvQXzNcyBE\""
   ]
  },
  {
   "cell_type": "code",
   "execution_count": 6,
   "id": "eb2c6ac0-e090-4933-96fd-16c25d48cf55",
   "metadata": {},
   "outputs": [],
   "source": [
    "client = tweepy.Client(bearer_token=bearer_token_balsa, wait_on_rate_limit=True)\n",
    "\n",
    "#username = \"DonaldJTrumpJr\"\n",
    "#user = client.get_user(username=username)\n",
    "#user.data"
   ]
  },
  {
   "cell_type": "code",
   "execution_count": 4,
   "id": "7ccf8b76-f5d6-47e3-9375-b483d7feaff5",
   "metadata": {},
   "outputs": [],
   "source": [
    "tweets = client.get_users_tweets(id=user.data.id, tweet_fields=['id', 'text', 'created_at', 'context_annotations'], max_results=5)"
   ]
  },
  {
   "cell_type": "code",
   "execution_count": 5,
   "id": "08a2367d-e2ad-49cd-b21d-372594f79b88",
   "metadata": {},
   "outputs": [
    {
     "name": "stdout",
     "output_type": "stream",
     "text": [
      "1590722332502691841 RT @marklevinshow: 1. I have nothing against Karl Rove.  I met him once or twice in passing.  But he's a predictable mouthpiece for the GOP…\n",
      "\n",
      "1590344288998952960 RT @DonaldJTrumpJr: A Republican house has to vote to defund this nonsense. At this point NPR is nothing more than a taxpayer funded leftis…\n",
      "\n",
      "1590151179702456320 Bloodbath!!!\n",
      "\n",
      "1590126983908044800 A Republican house has to vote to defund this nonsense. At this point NPR is nothing more than a taxpayer funded leftist super PAC. https://t.co/AJNehSgsCQ\n",
      "\n",
      "1590126456482693121 Maricopa County peeps get out and vote. If you’re in line when polls close they have to let you vote. Get out there and let’s turn Arizona red. Don’t take any chances do it now!!! #az #Arizona\n",
      "\n"
     ]
    }
   ],
   "source": [
    "tweets_id = []\n",
    "for tweet in tweets.data:\n",
    "    print(tweet.id, tweet)\n",
    "    tweets_id.append(tweet.id)\n",
    "    print()"
   ]
  },
  {
   "cell_type": "code",
   "execution_count": 6,
   "id": "332548c5-1bdc-40bc-beb8-b13d02fe21f1",
   "metadata": {},
   "outputs": [
    {
     "name": "stdout",
     "output_type": "stream",
     "text": [
      "RT @marklevinshow: 1. I have nothing against Karl Rove.  I met him once or twice in passing.  But he's a predictable mouthpiece for the GOP… 2022-11-10 15:05:32+00:00\n",
      "----------------------------------------\n",
      "RT @DonaldJTrumpJr: A Republican house has to vote to defund this nonsense. At this point NPR is nothing more than a taxpayer funded leftis… 2022-11-09 14:03:20+00:00\n",
      "----------------------------------------\n",
      "Bloodbath!!! 2022-11-09 01:15:59+00:00\n",
      "----------------------------------------\n",
      "A Republican house has to vote to defund this nonsense. At this point NPR is nothing more than a taxpayer funded leftist super PAC. https://t.co/AJNehSgsCQ 2022-11-08 23:39:50+00:00\n",
      "----------------------------------------\n",
      "Maricopa County peeps get out and vote. If you’re in line when polls close they have to let you vote. Get out there and let’s turn Arizona red. Don’t take any chances do it now!!! #az #Arizona 2022-11-08 23:37:45+00:00\n",
      "----------------------------------------\n"
     ]
    }
   ],
   "source": [
    "trump_tweets = client.get_tweets(tweets_id, tweet_fields=['id', 'text', 'created_at'])\n",
    "for tweet in trump_tweets.data:\n",
    "    print(tweet.text, tweet.created_at)\n",
    "    print('----------------------------------------')"
   ]
  },
  {
   "cell_type": "code",
   "execution_count": 7,
   "id": "484d503f-f5ed-412d-8648-05bd6be76214",
   "metadata": {},
   "outputs": [],
   "source": [
    "tweets = client.search_all_tweets(\"covid\", max_results = 10)"
   ]
  },
  {
   "cell_type": "code",
   "execution_count": 8,
   "id": "d471776f-030c-4fb0-8788-43792c574ec6",
   "metadata": {},
   "outputs": [
    {
     "name": "stdout",
     "output_type": "stream",
     "text": [
      "Covid-19 is the virus of Theseus.\n",
      "----------------------------------------\n",
      "RT @matylet: @TheZingOne @SizweLo You got a good undismissable point ,highly plausible.Just a matter of time. So it’s possible a first SM p…\n",
      "----------------------------------------\n",
      "RT @LANACION: Gabriela Cerruti pidió disculpas: “Lamento profundamente si algún familiar de víctimas del covid se sintió ofendido por mis p…\n",
      "----------------------------------------\n",
      "RT @AlanLopesRio: BOMBA: ex-jornalista da Globo confessa que a ordem da emissora era esconder as fraudes sobre pessoas que morreram de dive…\n",
      "----------------------------------------\n",
      "RT @AndersonAfDMdEP: 🇬🇧|#YouTube censored (unsuccessfully) what we found out in #EU #COVID special committee about opaque relations between…\n",
      "----------------------------------------\n",
      "RT @manuelrico: Hoy hace 983 días que falleció la primera residente en España. En la primera ola del covid murieron más de 20.000 residente…\n",
      "----------------------------------------\n",
      "RT @TYDRYN: WHY IS MY SEAT PARTNER TAKING A COVID TEST ON THE FLIGHT .. JESUS PLS\n",
      "----------------------------------------\n",
      "RT @DamaresAlves: Não há como negar! Pela primeira vez em mais de 8 anos, o Brasil fechará as contas no azul. O Banco Mundial também confir…\n",
      "----------------------------------------\n",
      "RT @EricTopol: The daily pandemic briefing Ground Truths today is on 2 publications regarding Covid reinfections and #LongCovid \n",
      "https://t.…\n",
      "----------------------------------------\n",
      "RT @1goodtern: Some major players are starting to admit it:\n",
      "Repeat Covid infections could be deadly.\n",
      "https://t.co/MZDQkCW4mr\n",
      "----------------------------------------\n"
     ]
    }
   ],
   "source": [
    "for tweet in tweets.data:\n",
    "    print(tweet.text)\n",
    "    print('----------------------------------------')"
   ]
  },
  {
   "cell_type": "code",
   "execution_count": 9,
   "id": "2bd13ff4-0a76-4f00-85ec-d4de2d6665e4",
   "metadata": {},
   "outputs": [],
   "source": [
    "import tweepy\n",
    "\n",
    "client = tweepy.Client(bearer_token_balsa)\n",
    "\n",
    "tweets = client.search_all_tweets(\"covid -is:retweet -has:links lang:sr\", max_results = 10) "
   ]
  },
  {
   "cell_type": "code",
   "execution_count": 10,
   "id": "8442311e-ea45-40ea-961e-3298af799224",
   "metadata": {
    "scrolled": true
   },
   "outputs": [
    {
     "name": "stdout",
     "output_type": "stream",
     "text": [
      "@buturipol2 Искрено, моментално се водам по препораки. Тие не се сменети подолго време тука барем. Видов некои сумљиви студии пред некое време ама ќе почекам ривју. Бустери се препорачани за стари и имуно-компромитирани, терапии има развиени 🤷‍♂️ Long covid е проблем ама уште се истражува\n",
      "------------------------\n",
      "@nikolatanasic Сретењски устав је идеолошки у супротности са ставовима већине данашњих Срба . Увести Сретењски устав 1835. је равно увођењу Green new deal-a 2022. или covid пропусница. Ничег славног ни лепог ту нема.\n",
      "------------------------\n",
      "@klaracallisto @alexhris Исто! За мене COVID беше главниот двигател, ама на крај истиот проблем е.\n",
      "------------------------\n",
      "ALIMS Саопштење за јавност\n",
      "25.10.2022\n",
      "Агенција за лекове и медицинска средства Србије није издала дозволу за лек односно регистровала ниједну вакцину против COVID-19 која садржи више варијанти SARS-CoV-2 вируса, односно такозване бивалентне вакцине. Агенција ће благовремено⬇️\n",
      "------------------------\n",
      "@FicoKu &gt; ...patients diagnosed with COVID-19.\n",
      "Колку шо памтам, Сканди експерти имаат кажано дека вакцинацијата го намалува ризикот од миокардитис пост-инфекција, ама немам видено солидни податоци.\n",
      "\n",
      "Најверојатно ризикот е адитивен (а бустање не нуди никаква заштита и се бусташ почесто).\n",
      "------------------------\n",
      "@dbtoncic @SnezaCC Реално, Ноло је пичкица.\n",
      "Пасти толико ниско, јадно, да фалсификујеш COVID тест?!\n",
      "Ужас.\n",
      "\n",
      "Но, он је и показатељ како су људи подељени на одељеке, њихо ва личност није кохерентна.\n",
      "------------------------\n",
      "@gsbond008 @DjurdjicSilvia @NSPM Које посланичке групе, кад је већина у Скупштини састављена од главног извршиоца COVID злочина, СЗО манекен је био, респиратор манијак. Неуставно је прогласио ванредно стање и са нескривеном страшћу нас је затварао, ширио страх и панику, пензионере сатро са нехуманим мерама.\n",
      "------------------------\n",
      "@lady1704 Јеси чула некад за израз \"brainwashed\" people.\n",
      "То су ти уствари исти они који су на својим профилнима стављали аватаре \"i am covid vaccinated\". Иста болест, brainwashed.\n",
      "------------------------\n",
      "@profesorka02 НАТО је убио цивила колико је Српска влада СВАКОГ ДАНА убијала својих грађана COVID небригом. Умирало је по више од 200 људи дневно, у пандемији. Мало више од тога је страдало цивила, у НАТО нападу.\n",
      "------------------------\n",
      "@vesnaveizovic Да немаш COVID? Тад човек изгуби укус и мирис.\n",
      "------------------------\n"
     ]
    }
   ],
   "source": [
    "for tweet in tweets[0]:\n",
    "        print(tweet)\n",
    "        print(\"------------------------\")"
   ]
  },
  {
   "cell_type": "markdown",
   "id": "e2afa7ad",
   "metadata": {},
   "source": [
    "#### PART1: RETRIEVING TWEETS FROM RANDOM PEOPLE TO ANALYSE THE INTERESTS OF THE POPULATION"
   ]
  },
  {
   "cell_type": "code",
   "execution_count": 1,
   "id": "00412572",
   "metadata": {},
   "outputs": [],
   "source": [
    "import pandas as pd\n",
    "import numpy as np\n",
    "import datetime"
   ]
  },
  {
   "cell_type": "code",
   "execution_count": 7,
   "id": "91d748af",
   "metadata": {},
   "outputs": [
    {
     "ename": "NameError",
     "evalue": "name 'data_path' is not defined",
     "output_type": "error",
     "traceback": [
      "\u001b[1;31m---------------------------------------------------------------------------\u001b[0m",
      "\u001b[1;31mNameError\u001b[0m                                 Traceback (most recent call last)",
      "Input \u001b[1;32mIn [7]\u001b[0m, in \u001b[0;36m<cell line: 1>\u001b[1;34m()\u001b[0m\n\u001b[1;32m----> 1\u001b[0m \u001b[38;5;28;01mwith\u001b[39;00m \u001b[38;5;28mopen\u001b[39m(\u001b[43mdata_path\u001b[49m\u001b[38;5;241m+\u001b[39m\u001b[38;5;124m'\u001b[39m\u001b[38;5;124maggregated_timeseries.json\u001b[39m\u001b[38;5;124m'\u001b[39m,\u001b[38;5;124m'\u001b[39m\u001b[38;5;124mr\u001b[39m\u001b[38;5;124m'\u001b[39m) \u001b[38;5;28;01mas\u001b[39;00m file:\n\u001b[0;32m      2\u001b[0m     time_series \u001b[38;5;241m=\u001b[39m json\u001b[38;5;241m.\u001b[39mload(file)\n",
      "\u001b[1;31mNameError\u001b[0m: name 'data_path' is not defined"
     ]
    }
   ],
   "source": [
    "with open(data_path+'aggregated_timeseries.json','r') as file:\n",
    "    time_series = json.load(file)"
   ]
  },
  {
   "cell_type": "code",
   "execution_count": null,
   "id": "a34f1a31",
   "metadata": {},
   "outputs": [],
   "source": [
    "# france, danimark,germany,italy,netherlands,normway,sweden,serbia,finland,england\n",
    "countries = ['FR','DK','DE','IT','NL','NO','SE','RS','FI','UK']\n",
    "languages = ['fr','da','ge','it','nl','no','sv','sr','fi','en']\n",
    "start = \n",
    "end = "
   ]
  },
  {
   "cell_type": "code",
   "execution_count": null,
   "id": "bfed9a64",
   "metadata": {},
   "outputs": [],
   "source": [
    "for idx, country in enumerate(countries):\n",
    "    language = languages[idx]\n",
    "    tweets = client.search_all_tweets(\"-is:retweet -has:links lang:\", max_results = 10) "
   ]
  }
 ],
 "metadata": {
  "kernelspec": {
   "display_name": "Python 3 (ipykernel)",
   "language": "python",
   "name": "python3"
  },
  "language_info": {
   "codemirror_mode": {
    "name": "ipython",
    "version": 3
   },
   "file_extension": ".py",
   "mimetype": "text/x-python",
   "name": "python",
   "nbconvert_exporter": "python",
   "pygments_lexer": "ipython3",
   "version": "3.9.12"
  }
 },
 "nbformat": 4,
 "nbformat_minor": 5
}
