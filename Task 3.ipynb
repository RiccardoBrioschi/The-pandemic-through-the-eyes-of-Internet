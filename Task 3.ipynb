{
 "cells": [
  {
   "cell_type": "markdown",
   "id": "273ce35d-0304-44ea-bf49-5ac0a30d8090",
   "metadata": {},
   "source": [
    "### Task 3"
   ]
  },
  {
   "cell_type": "code",
   "execution_count": 294,
   "id": "8addfd6d-a15a-4b9b-9019-e8d68281bbe5",
   "metadata": {},
   "outputs": [],
   "source": [
    "import pandas as pd\n",
    "import numpy as np\n",
    "\n",
    "import re\n",
    "import json\n",
    "import string\n",
    "from datetime import datetime, timedelta\n",
    "\n",
    "import translators as ts\n",
    "\n",
    "# Natural language processing libraries\n",
    "import nltk\n",
    "import string\n",
    "from nltk.corpus import stopwords\n",
    "from nltk.stem import PorterStemmer, WordNetLemmatizer\n",
    "\n",
    "# Twitter library\n",
    "import tweepy\n",
    "\n",
    "#Data visualization libraries\n",
    "import matplotlib.pyplot as plt\n",
    "import seaborn as sns\n",
    "%matplotlib inline"
   ]
  },
  {
   "cell_type": "code",
   "execution_count": 295,
   "id": "4e8fa416-536e-4d38-be58-355b129710b7",
   "metadata": {},
   "outputs": [],
   "source": [
    "import pyLDAvis \n",
    "import pyLDAvis.gensim_models\n",
    "pyLDAvis.enable_notebook()\n",
    "\n",
    "import gensim\n",
    "from gensim import corpora\n",
    "import pickle\n",
    "import bz2\n",
    "import json\n",
    "\n",
    "import warnings\n",
    "warnings.filterwarnings(\"ignore\")\n",
    "\n",
    "import spacy"
   ]
  },
  {
   "cell_type": "code",
   "execution_count": 296,
   "id": "aa7b3e61-461a-4c07-95c9-606a40e59907",
   "metadata": {},
   "outputs": [
    {
     "data": {
      "text/html": [
       "<div>\n",
       "<style scoped>\n",
       "    .dataframe tbody tr th:only-of-type {\n",
       "        vertical-align: middle;\n",
       "    }\n",
       "\n",
       "    .dataframe tbody tr th {\n",
       "        vertical-align: top;\n",
       "    }\n",
       "\n",
       "    .dataframe thead th {\n",
       "        text-align: right;\n",
       "    }\n",
       "</style>\n",
       "<table border=\"1\" class=\"dataframe\">\n",
       "  <thead>\n",
       "    <tr style=\"text-align: right;\">\n",
       "      <th></th>\n",
       "      <th>Unnamed: 0</th>\n",
       "      <th>id</th>\n",
       "      <th>country_code</th>\n",
       "      <th>lang</th>\n",
       "      <th>user</th>\n",
       "      <th>tweet_text_orginal</th>\n",
       "      <th>tweet_text_en</th>\n",
       "      <th>tweet_date</th>\n",
       "      <th>context_annotations</th>\n",
       "    </tr>\n",
       "  </thead>\n",
       "  <tbody>\n",
       "    <tr>\n",
       "      <th>0</th>\n",
       "      <td>0</td>\n",
       "      <td>1240013952861511680</td>\n",
       "      <td>RS</td>\n",
       "      <td>sr</td>\n",
       "      <td>Response(data=&lt;User id=356450858 name=Александ...</td>\n",
       "      <td>Поносни смо на наше пријатељство.\\r\\nНикада не...</td>\n",
       "      <td>we are proud of our friendship we will never f...</td>\n",
       "      <td>2020-03-17 20:35:39+00:00</td>\n",
       "      <td>[]</td>\n",
       "    </tr>\n",
       "    <tr>\n",
       "      <th>1</th>\n",
       "      <td>1</td>\n",
       "      <td>1239873649999523845</td>\n",
       "      <td>RS</td>\n",
       "      <td>sr</td>\n",
       "      <td>Response(data=&lt;User id=356450858 name=Александ...</td>\n",
       "      <td>Бескрајно хвала на свему нашој кинеској браћи ...</td>\n",
       "      <td>infinitely thank you for all our chinese broth...</td>\n",
       "      <td>2020-03-17 11:18:08+00:00</td>\n",
       "      <td>[{'domain': {'id': '123', 'name': 'Ongoing New...</td>\n",
       "    </tr>\n",
       "    <tr>\n",
       "      <th>2</th>\n",
       "      <td>2</td>\n",
       "      <td>1239310408760074240</td>\n",
       "      <td>RS</td>\n",
       "      <td>sr</td>\n",
       "      <td>Response(data=&lt;User id=356450858 name=Александ...</td>\n",
       "      <td>Предаја није, никада није била и никада неће б...</td>\n",
       "      <td>the surrender is not it was never and will nev...</td>\n",
       "      <td>2020-03-15 22:00:01+00:00</td>\n",
       "      <td>[]</td>\n",
       "    </tr>\n",
       "    <tr>\n",
       "      <th>3</th>\n",
       "      <td>3</td>\n",
       "      <td>1238813645385187328</td>\n",
       "      <td>RS</td>\n",
       "      <td>sr</td>\n",
       "      <td>Response(data=&lt;User id=356450858 name=Александ...</td>\n",
       "      <td>Pадимо, боримо се и урадићемо све што треба. С...</td>\n",
       "      <td>we fall we fight and we will do whatever you n...</td>\n",
       "      <td>2020-03-14 13:06:03+00:00</td>\n",
       "      <td>[]</td>\n",
       "    </tr>\n",
       "    <tr>\n",
       "      <th>4</th>\n",
       "      <td>4</td>\n",
       "      <td>1237796648161599491</td>\n",
       "      <td>RS</td>\n",
       "      <td>sr</td>\n",
       "      <td>Response(data=&lt;User id=356450858 name=Александ...</td>\n",
       "      <td>Одлуке доноси струка, не политика.\\r\\nХвала на...</td>\n",
       "      <td>decisions make a profession not politics thank...</td>\n",
       "      <td>2020-03-11 17:44:52+00:00</td>\n",
       "      <td>[]</td>\n",
       "    </tr>\n",
       "  </tbody>\n",
       "</table>\n",
       "</div>"
      ],
      "text/plain": [
       "   Unnamed: 0                   id country_code lang  \\\n",
       "0           0  1240013952861511680           RS   sr   \n",
       "1           1  1239873649999523845           RS   sr   \n",
       "2           2  1239310408760074240           RS   sr   \n",
       "3           3  1238813645385187328           RS   sr   \n",
       "4           4  1237796648161599491           RS   sr   \n",
       "\n",
       "                                                user  \\\n",
       "0  Response(data=<User id=356450858 name=Александ...   \n",
       "1  Response(data=<User id=356450858 name=Александ...   \n",
       "2  Response(data=<User id=356450858 name=Александ...   \n",
       "3  Response(data=<User id=356450858 name=Александ...   \n",
       "4  Response(data=<User id=356450858 name=Александ...   \n",
       "\n",
       "                                  tweet_text_orginal  \\\n",
       "0  Поносни смо на наше пријатељство.\\r\\nНикада не...   \n",
       "1  Бескрајно хвала на свему нашој кинеској браћи ...   \n",
       "2  Предаја није, никада није била и никада неће б...   \n",
       "3  Pадимо, боримо се и урадићемо све што треба. С...   \n",
       "4  Одлуке доноси струка, не политика.\\r\\nХвала на...   \n",
       "\n",
       "                                       tweet_text_en  \\\n",
       "0  we are proud of our friendship we will never f...   \n",
       "1  infinitely thank you for all our chinese broth...   \n",
       "2  the surrender is not it was never and will nev...   \n",
       "3  we fall we fight and we will do whatever you n...   \n",
       "4  decisions make a profession not politics thank...   \n",
       "\n",
       "                  tweet_date  \\\n",
       "0  2020-03-17 20:35:39+00:00   \n",
       "1  2020-03-17 11:18:08+00:00   \n",
       "2  2020-03-15 22:00:01+00:00   \n",
       "3  2020-03-14 13:06:03+00:00   \n",
       "4  2020-03-11 17:44:52+00:00   \n",
       "\n",
       "                                 context_annotations  \n",
       "0                                                 []  \n",
       "1  [{'domain': {'id': '123', 'name': 'Ongoing New...  \n",
       "2                                                 []  \n",
       "3                                                 []  \n",
       "4                                                 []  "
      ]
     },
     "execution_count": 296,
     "metadata": {},
     "output_type": "execute_result"
    }
   ],
   "source": [
    "influential_people_tweets = pd.read_csv('influential_people_tweets.csv', delimiter=',')\n",
    "influential_people_tweets.head()"
   ]
  },
  {
   "cell_type": "code",
   "execution_count": 297,
   "id": "f10c8d70-b1eb-49e2-9930-cb87f9f4d2e4",
   "metadata": {},
   "outputs": [],
   "source": [
    "country_code = 'RS'"
   ]
  },
  {
   "cell_type": "code",
   "execution_count": 298,
   "id": "c8bded24-9b0e-4f8e-ab2a-9f2528c80ec6",
   "metadata": {},
   "outputs": [],
   "source": [
    "tweets_from_country = influential_people_tweets.loc[influential_people_tweets['country_code']==country_code, \n",
    "                                                        'tweet_text_en']\n",
    "\n",
    "tweets_se = []\n",
    "for row in tweets_from_country:\n",
    "    tweets_se.append(str(row).split())"
   ]
  },
  {
   "cell_type": "code",
   "execution_count": null,
   "id": "5c26acb5-b07d-47e5-a458-93ef8a5715b6",
   "metadata": {},
   "outputs": [],
   "source": []
  },
  {
   "cell_type": "code",
   "execution_count": 299,
   "id": "e839f8c9-1649-4a62-bb05-285b1bf95d46",
   "metadata": {},
   "outputs": [
    {
     "name": "stdout",
     "output_type": "stream",
     "text": [
      "[['we', 'are', 'proud', 'of', 'our', 'friendship', 'we', 'will', 'never', 'forget', 'the', 'help', 'of', 'our', 'chinese', 'friends']]\n"
     ]
    }
   ],
   "source": [
    "def sent_to_words(sentences):\n",
    "    for sentence in sentences:\n",
    "        yield(gensim.utils.simple_preprocess(str(sentence), deacc=True))\n",
    "\n",
    "data_words = tweets_se\n",
    "\n",
    "print(data_words[:1])"
   ]
  },
  {
   "cell_type": "code",
   "execution_count": 300,
   "id": "a2d659f3-76a0-49db-bb65-d850fdfd2458",
   "metadata": {},
   "outputs": [
    {
     "name": "stdout",
     "output_type": "stream",
     "text": [
      "['we', 'are', 'proud', 'of', 'our', 'friendship', 'we', 'will', 'never', 'forget', 'the', 'help', 'of', 'our', 'chinese', 'friends']\n"
     ]
    }
   ],
   "source": [
    "# Build the bigram and trigram models\n",
    "bigram = gensim.models.Phrases(data_words, min_count=5, threshold=100) # higher threshold fewer phrases.\n",
    "trigram = gensim.models.Phrases(bigram[data_words], threshold=100)  \n",
    "\n",
    "# Faster way to get a sentence clubbed as a trigram/bigram\n",
    "bigram_mod = gensim.models.phrases.Phraser(bigram)\n",
    "trigram_mod = gensim.models.phrases.Phraser(trigram)\n",
    "\n",
    "# See trigram example\n",
    "print(trigram_mod[bigram_mod[data_words[0]]])"
   ]
  },
  {
   "cell_type": "code",
   "execution_count": 301,
   "id": "03ac6cee-251a-482c-b7c4-4057d6f8532b",
   "metadata": {},
   "outputs": [],
   "source": [
    "# Define functions for stopwords, bigrams, trigrams and lemmatization\n",
    "def remove_stopwords(texts):\n",
    "    return [[word for word in simple_preprocess(str(doc)) if word not in stop_words] for doc in texts]\n",
    "\n",
    "def lemmatization(texts, allowed_postags=['NOUN', 'ADJ', 'VERB', 'ADV']):\n",
    "    \"\"\"https://spacy.io/api/annotation\"\"\"\n",
    "    texts_out = []\n",
    "    for sent in texts:\n",
    "        doc = nlp(\" \".join(sent)) \n",
    "        texts_out.append([token.lemma_ for token in doc if token.pos_ in allowed_postags])\n",
    "    return texts_out\n",
    "\n",
    "def make_bigrams(texts):\n",
    "    return [bigram_mod[doc] for doc in texts]\n",
    "\n",
    "def make_trigrams(texts):\n",
    "    return [trigram_mod[bigram_mod[doc]] for doc in texts]"
   ]
  },
  {
   "cell_type": "code",
   "execution_count": 302,
   "id": "290703fa-7213-48fb-88e9-e0c144a75bdc",
   "metadata": {},
   "outputs": [],
   "source": [
    "# Initialize spaCy 'en' model, keeping only tagger component (for efficiency)\n",
    "# python3 -m spaCy download en\n",
    "nlp = spacy.load('en_core_web_sm', disable=['parser', 'ner'])"
   ]
  },
  {
   "cell_type": "code",
   "execution_count": 303,
   "id": "c74aa5e6-9fd8-45aa-9e3b-bfff72680721",
   "metadata": {},
   "outputs": [
    {
     "name": "stdout",
     "output_type": "stream",
     "text": [
      "[['friendship', 'help', 'friend']]\n"
     ]
    }
   ],
   "source": [
    "data_words_bigrams = make_bigrams(data_words)\n",
    "\n",
    "# Perform lemmatization keeping noun, adjective, verb, and adverb\n",
    "data_lemmatized = lemmatization(data_words_bigrams, allowed_postags=['NOUN']) #, 'ADJ', 'VERB', 'ADV'\n",
    "\n",
    "print(data_lemmatized[:1])"
   ]
  },
  {
   "cell_type": "code",
   "execution_count": 304,
   "id": "4d692683-8617-42c9-8c48-bd62b2174a8e",
   "metadata": {},
   "outputs": [
    {
     "name": "stdout",
     "output_type": "stream",
     "text": [
      "[[(0, 1), (1, 1), (2, 1)]]\n"
     ]
    }
   ],
   "source": [
    "id2word = corpora.Dictionary(data_lemmatized)\n",
    "\n",
    "# Create Corpus\n",
    "texts = data_lemmatized\n",
    "\n",
    "# Term Document Frequency\n",
    "corpus = [id2word.doc2bow(text) for text in texts]\n",
    "\n",
    "# View\n",
    "print(corpus[:1])"
   ]
  },
  {
   "cell_type": "code",
   "execution_count": 305,
   "id": "c7dcc47d-4ff9-41ac-88ea-0ae701f14115",
   "metadata": {},
   "outputs": [
    {
     "data": {
      "text/plain": [
       "'friend'"
      ]
     },
     "execution_count": 305,
     "metadata": {},
     "output_type": "execute_result"
    }
   ],
   "source": [
    "id2word[0]"
   ]
  },
  {
   "cell_type": "code",
   "execution_count": 306,
   "id": "afe6ad8e-9f3f-4f37-8d0a-3ae8ca468bd6",
   "metadata": {},
   "outputs": [
    {
     "data": {
      "text/plain": [
       "[[('friend', 1), ('friendship', 1), ('help', 1)]]"
      ]
     },
     "execution_count": 306,
     "metadata": {},
     "output_type": "execute_result"
    }
   ],
   "source": [
    "# Human readable format of corpus (term-frequency)\n",
    "[[(id2word[id], freq) for id, freq in cp] for cp in corpus[:1]]"
   ]
  },
  {
   "cell_type": "code",
   "execution_count": 307,
   "id": "1c2aeede-5ab8-4002-a6bd-757236ca781a",
   "metadata": {},
   "outputs": [],
   "source": [
    "lda_model = gensim.models.ldamodel.LdaModel(corpus=corpus,\n",
    "                                           id2word=id2word,\n",
    "                                           num_topics=6, \n",
    "                                           random_state=100,\n",
    "                                           update_every=1,\n",
    "                                           chunksize=5,\n",
    "                                           passes=10,\n",
    "                                           alpha='auto',\n",
    "                                           eval_every=5, \n",
    "                                           per_word_topics=True)"
   ]
  },
  {
   "cell_type": "code",
   "execution_count": 308,
   "id": "a4a7619b-3e7e-4be6-9c3b-df6a6d13e2d3",
   "metadata": {},
   "outputs": [
    {
     "name": "stdout",
     "output_type": "stream",
     "text": [
      "[(0, '0.046*\"moron\" + 0.046*\"bass\" + 0.037*\"gym\" + 0.026*\"money\" + 0.026*\"luxury\" + 0.022*\"thank\" + 0.015*\"doctor\" + 0.013*\"device\" + 0.007*\"hahahaha\" + 0.007*\"exercise\"'), (1, '0.118*\"debil\" + 0.033*\"corona\" + 0.027*\"pit\" + 0.027*\"hoce\" + 0.024*\"time\" + 0.015*\"virus\" + 0.011*\"device\" + 0.010*\"quarantine\" + 0.009*\"pm\" + 0.006*\"exercise\"'), (2, '0.045*\"debille\" + 0.045*\"photo\" + 0.029*\"week\" + 0.016*\"praise\" + 0.016*\"sapcac\" + 0.016*\"dog\" + 0.009*\"lot\" + 0.008*\"t\" + 0.008*\"skolism\" + 0.007*\"mountain\"'), (3, '0.043*\"people\" + 0.040*\"part\" + 0.031*\"debt\" + 0.028*\"year\" + 0.028*\"course\" + 0.024*\"album\" + 0.024*\"truth\" + 0.024*\"mystery\" + 0.023*\"voice\" + 0.022*\"motivational\"'), (4, '0.058*\"monkey\" + 0.022*\"insider\" + 0.022*\"match\" + 0.022*\"head\" + 0.022*\"ball\" + 0.022*\"’s\" + 0.014*\"plan\" + 0.012*\"device\" + 0.010*\"occasion\" + 0.010*\"murder\"'), (5, '0.044*\"parent\" + 0.032*\"brother\" + 0.026*\"verenica\" + 0.026*\"pineapple\" + 0.025*\"child\" + 0.022*\"hour\" + 0.015*\"night\" + 0.014*\"apple\" + 0.014*\"base\" + 0.014*\"min\"')]\n"
     ]
    }
   ],
   "source": [
    "print(lda_model.print_topics())\n",
    "doc_lda = lda_model[corpus]"
   ]
  },
  {
   "cell_type": "code",
   "execution_count": 309,
   "id": "99aae41e-4c39-4dfc-97a5-4bf4217911ce",
   "metadata": {},
   "outputs": [
    {
     "name": "stdout",
     "output_type": "stream",
     "text": [
      "\n",
      "Score: 0.8771467208862305\t \n",
      "Topic: 0.118*\"debil\" + 0.033*\"corona\" + 0.027*\"pit\" + 0.027*\"hoce\" + 0.024*\"time\" + 0.015*\"virus\" + 0.011*\"device\" + 0.010*\"quarantine\" + 0.009*\"pm\" + 0.006*\"exercise\"\n",
      "\n",
      "Score: 0.048222366720438004\t \n",
      "Topic: 0.043*\"people\" + 0.040*\"part\" + 0.031*\"debt\" + 0.028*\"year\" + 0.028*\"course\" + 0.024*\"album\" + 0.024*\"truth\" + 0.024*\"mystery\" + 0.023*\"voice\" + 0.022*\"motivational\"\n",
      "\n",
      "Score: 0.019779805094003677\t \n",
      "Topic: 0.046*\"moron\" + 0.046*\"bass\" + 0.037*\"gym\" + 0.026*\"money\" + 0.026*\"luxury\" + 0.022*\"thank\" + 0.015*\"doctor\" + 0.013*\"device\" + 0.007*\"hahahaha\" + 0.007*\"exercise\"\n",
      "\n",
      "Score: 0.019081344828009605\t \n",
      "Topic: 0.058*\"monkey\" + 0.022*\"insider\" + 0.022*\"match\" + 0.022*\"head\" + 0.022*\"ball\" + 0.022*\"’s\" + 0.014*\"plan\" + 0.012*\"device\" + 0.010*\"occasion\" + 0.010*\"murder\"\n",
      "\n",
      "Score: 0.019027287140488625\t \n",
      "Topic: 0.044*\"parent\" + 0.032*\"brother\" + 0.026*\"verenica\" + 0.026*\"pineapple\" + 0.025*\"child\" + 0.022*\"hour\" + 0.015*\"night\" + 0.014*\"apple\" + 0.014*\"base\" + 0.014*\"min\"\n",
      "\n",
      "Score: 0.01674252189695835\t \n",
      "Topic: 0.045*\"debille\" + 0.045*\"photo\" + 0.029*\"week\" + 0.016*\"praise\" + 0.016*\"sapcac\" + 0.016*\"dog\" + 0.009*\"lot\" + 0.008*\"t\" + 0.008*\"skolism\" + 0.007*\"mountain\"\n"
     ]
    }
   ],
   "source": [
    "for  index,score in sorted(lda_model[corpus[2]][0], key=lambda tup: -1*tup[1]):\n",
    "    print(\"\\nScore: {}\\t \\nTopic: {}\".format(score, lda_model.print_topic(index, 10)))"
   ]
  },
  {
   "cell_type": "code",
   "execution_count": 310,
   "id": "ebdd0eda-f0c9-48ec-8846-d80b4a58f6ec",
   "metadata": {},
   "outputs": [
    {
     "name": "stdout",
     "output_type": "stream",
     "text": [
      "\n",
      "Perplexity:  -9.446107391445409\n",
      "\n",
      "Coherence Score:  nan\n"
     ]
    }
   ],
   "source": [
    "import pyLDAvis.gensim_models as gensimvi\n",
    "from gensim.models.coherencemodel import CoherenceModel\n",
    "# Compute Perplexity\n",
    "print('\\nPerplexity: ', lda_model.log_perplexity(corpus))  # a measure of how good the model is. lower the better.\n",
    "\n",
    "# Compute Coherence Score\n",
    "coherence_model_lda = CoherenceModel(model=lda_model, texts=data_lemmatized, dictionary=id2word, coherence='c_v')\n",
    "coherence_lda = coherence_model_lda.get_coherence()\n",
    "print('\\nCoherence Score: ', coherence_lda)"
   ]
  },
  {
   "cell_type": "code",
   "execution_count": 311,
   "id": "bfba403b-c722-4f00-80bf-129ef65908b7",
   "metadata": {},
   "outputs": [
    {
     "name": "stderr",
     "output_type": "stream",
     "text": [
      "/Users/skocko/opt/anaconda3/envs/ada/lib/python3.9/site-packages/past/builtins/misc.py:45: DeprecationWarning: the imp module is deprecated in favour of importlib; see the module's documentation for alternative uses\n",
      "  from imp import reload\n",
      "/Users/skocko/opt/anaconda3/envs/ada/lib/python3.9/site-packages/past/builtins/misc.py:45: DeprecationWarning: the imp module is deprecated in favour of importlib; see the module's documentation for alternative uses\n",
      "  from imp import reload\n",
      "/Users/skocko/opt/anaconda3/envs/ada/lib/python3.9/site-packages/past/builtins/misc.py:45: DeprecationWarning: the imp module is deprecated in favour of importlib; see the module's documentation for alternative uses\n",
      "  from imp import reload\n",
      "/Users/skocko/opt/anaconda3/envs/ada/lib/python3.9/site-packages/past/builtins/misc.py:45: DeprecationWarning: the imp module is deprecated in favour of importlib; see the module's documentation for alternative uses\n",
      "  from imp import reload\n",
      "/Users/skocko/opt/anaconda3/envs/ada/lib/python3.9/site-packages/past/builtins/misc.py:45: DeprecationWarning: the imp module is deprecated in favour of importlib; see the module's documentation for alternative uses\n",
      "  from imp import reload\n",
      "/Users/skocko/opt/anaconda3/envs/ada/lib/python3.9/site-packages/past/builtins/misc.py:45: DeprecationWarning: the imp module is deprecated in favour of importlib; see the module's documentation for alternative uses\n",
      "  from imp import reload\n",
      "/Users/skocko/opt/anaconda3/envs/ada/lib/python3.9/site-packages/past/builtins/misc.py:45: DeprecationWarning: the imp module is deprecated in favour of importlib; see the module's documentation for alternative uses\n",
      "  from imp import reload\n",
      "/Users/skocko/opt/anaconda3/envs/ada/lib/python3.9/site-packages/past/builtins/misc.py:45: DeprecationWarning: the imp module is deprecated in favour of importlib; see the module's documentation for alternative uses\n",
      "  from imp import reload\n"
     ]
    },
    {
     "data": {
      "text/html": [
       "\n",
       "<link rel=\"stylesheet\" type=\"text/css\" href=\"https://cdn.jsdelivr.net/gh/bmabey/pyLDAvis@3.3.1/pyLDAvis/js/ldavis.v1.0.0.css\">\n",
       "\n",
       "\n",
       "<div id=\"ldavis_el889291405075739800643611038114\"></div>\n",
       "<script type=\"text/javascript\">\n",
       "\n",
       "var ldavis_el889291405075739800643611038114_data = {\"mdsDat\": {\"x\": [0.03515304158525639, -0.16131693664682892, 0.02819964370553814, 0.040895303649619456, 0.03572130773290226, 0.021347639973512824], \"y\": [-0.10545028338335456, -0.0002742160396920409, 0.025017861994557727, 0.04436914339012209, 0.02552990546242127, 0.010807588575945694], \"topics\": [1, 2, 3, 4, 5, 6], \"cluster\": [1, 1, 1, 1, 1, 1], \"Freq\": [23.850950034717915, 19.91620477143396, 15.779039764352715, 15.515717303457263, 13.264489148035716, 11.673598978002428]}, \"tinfo\": {\"Term\": [\"debil\", \"monkey\", \"moron\", \"bass\", \"people\", \"parent\", \"debille\", \"photo\", \"part\", \"gym\", \"corona\", \"brother\", \"debt\", \"week\", \"year\", \"course\", \"pit\", \"hoce\", \"verenica\", \"pineapple\", \"money\", \"child\", \"luxury\", \"time\", \"album\", \"truth\", \"mystery\", \"voice\", \"thank\", \"hour\", \"debil\", \"corona\", \"pit\", \"hoce\", \"time\", \"virus\", \"quarantine\", \"pm\", \"government\", \"#\", \"life\", \"citizen\", \"threat\", \"word\", \"milveruovic\", \"street\", \"expert\", \"isolation\", \"idiot\", \"vu\\u010di\\u0107\", \"economy\", \"order\", \"disease\", \"guy\", \"planet\", \"health\", \"carnival\", \"trial\", \"verdict\", \"kitchen\", \"device\", \"exercise\", \"hahahaha\", \"debate\", \"people\", \"part\", \"debt\", \"year\", \"course\", \"album\", \"truth\", \"mystery\", \"voice\", \"motivational\", \"man\", \"writer\", \"air\", \"day\", \"history\", \"horoscope\", \"vase\", \"hahahah\", \"pizza\", \"son\", \"tonight\", \"twinshot\", \"stupidity\", \"effort\", \"cast\", \"setting\", \"prava\", \"n\", \"campaign\", \"situation\", \"device\", \"exercise\", \"hahahaha\", \"bass\", \"moron\", \"gym\", \"money\", \"luxury\", \"thank\", \"doctor\", \"content\", \"reception\", \"outlet\", \"moment\", \"mask\", \"trainee\", \"reaction\", \"information\", \"indicator\", \"trust\", \"visit\", \"vaccine\", \"fun\", \"glove\", \"way\", \"profit\", \"party\", \"result\", \"hospital\", \"noun\", \"advice\", \"nerd\", \"reserve\", \"device\", \"exercise\", \"hahahaha\", \"parent\", \"brother\", \"pineapple\", \"verenica\", \"child\", \"hour\", \"apple\", \"base\", \"min\", \"other\", \"night\", \"measure\", \"ban\", \"minister\", \"one\", \"hand\", \"hercegnovi\", \"movement\", \"dinner\", \"father\", \"house\", \"sister\", \"class\", \"am\", \"doin\", \"protection\", \"brain\", \"bill\", \"outbreak\", \"gang\", \"introduction\", \"lider\", \"debille\", \"photo\", \"week\", \"dog\", \"praise\", \"sapcac\", \"lot\", \"skolism\", \"t\", \"bond\", \"mountain\", \"summer\", \"insulation\", \"interview\", \"rt\", \"gentleman\", \"conclusion\", \"lithia\", \"snug\", \"question\", \"country\", \"blaming\", \"lady\", \"posting\", \"text\", \"school\", \"blasting\", \"top\", \"action\", \"trader\", \"monkey\", \"insider\", \"ball\", \"head\", \"match\", \"\\u2019s\", \"plan\", \"occasion\", \"murder\", \"idea\", \"video\", \"crime\", \"channel\", \"youtube\", \"name\", \"kind\", \"morning\", \"circumstance\", \"song\", \"post\", \"test\", \"opposition\", \"return\", \"debate\", \"woman\", \"music\", \"completedif\", \"hat\", \"borrower\", \"legion\", \"device\", \"exercise\", \"hahahaha\"], \"Freq\": [36.0, 9.0, 10.0, 10.0, 11.0, 9.0, 8.0, 8.0, 10.0, 8.0, 10.0, 7.0, 8.0, 5.0, 8.0, 8.0, 9.0, 9.0, 6.0, 6.0, 6.0, 5.0, 6.0, 8.0, 7.0, 7.0, 7.0, 6.0, 5.0, 5.0, 35.57526762715252, 9.928847920476507, 8.014516094179008, 8.013841576403328, 7.320338784226646, 4.549881568513929, 3.043194420006478, 2.7942802879244306, 1.6897884972516477, 1.5978755144726546, 1.5325206195501606, 1.5094172662015832, 1.2302410760375866, 1.1808176752342585, 1.1649875686936153, 1.1649875686936153, 1.0570041999090742, 1.3288077148668753, 0.9764214364641186, 0.8316785981731722, 0.8262728699786059, 0.8156522937235038, 0.7658357973948892, 0.7658357973948892, 0.7608850888160116, 0.7481899505763553, 0.7138861036153284, 0.7138861036153284, 0.7138861036153284, 0.6361632535568167, 3.4109787357315366, 1.8685541800775705, 1.8685541800775705, 0.7595032369952771, 10.729441919956484, 9.930475375762628, 7.691598745668805, 7.0203098328334885, 7.016744353389647, 6.123647375682546, 6.076471614105726, 6.0764276766296215, 5.808644652054539, 5.42377993916135, 4.460984101754602, 4.28894784890944, 4.288910455312756, 4.164947877784794, 3.4095369275887655, 3.0519181240796214, 2.724956928231999, 2.7056658054125857, 2.1536818639282314, 1.925107661446415, 1.7217212014161456, 1.722608364497479, 1.54357191349804, 1.2438516022699075, 1.2438457595204258, 1.1188011047884137, 1.0080337926903982, 1.2467383879339298, 0.9039281498416774, 0.8786329007996634, 5.2626873898057855, 2.6761120099831865, 2.6761120099831865, 9.093217324551725, 9.093217324551725, 7.394278403970867, 5.173210420588869, 5.084577941295473, 4.458119498166376, 2.957661738243014, 1.3396703442514422, 1.3396703442514422, 1.3345041466464544, 1.2746366356708114, 1.1880482493654898, 1.088180526235836, 0.9522917166656286, 0.7657910295426346, 0.7519070470683582, 0.7519070470683582, 0.7519070470683582, 0.7340915717372918, 0.7328434890536454, 0.6973346525566138, 0.6279604751341024, 0.5355843032749761, 0.488792127180678, 0.46469453075027395, 0.43472147468391914, 0.4329245263233943, 0.40936903716649314, 0.4073890564296187, 0.385392744818594, 2.492661922079987, 1.3604677104745955, 1.3604677104745955, 8.557508491498536, 6.173872667576164, 5.111147257595421, 5.111147257595421, 4.982691278402663, 4.274260715314474, 2.655358407640882, 2.655358407640882, 2.655358407640882, 1.7884562473146222, 2.842062048202256, 1.3519757665785863, 1.2693225725180652, 1.0954852132251325, 0.710059012691462, 0.7719790609672804, 0.9720097153240497, 0.6593835782529621, 0.5993096463403361, 0.5993096463403361, 0.552012461920166, 0.5448912721970848, 0.5382901703867664, 0.5164968208856211, 0.5164968208856211, 0.5138495433678216, 0.4849706446858402, 0.44740692421538025, 0.44740692421538025, 0.4527556911102562, 0.4805069740156863, 0.4527556911102562, 7.543203647900782, 7.543203647900782, 4.840209883201561, 2.6796322291223262, 2.6796322291223262, 2.6796322291223262, 1.4307498403492336, 1.391016738134264, 1.391016738134264, 1.1282754222066083, 1.1282754222066083, 1.1134690376707508, 1.0079179695290261, 0.9357538987941091, 0.824759287469175, 0.6157106209170674, 0.5917824646701321, 0.5917824646701321, 0.5917824646701321, 0.5743826844502633, 0.5001270865006378, 0.5235696401556191, 0.5235696401556191, 0.5235696401556191, 0.5235696401556191, 0.46312661276669964, 0.3813596817042828, 0.3813596817042828, 0.3803608867906131, 0.3803608867906131, 8.540362814361943, 3.2950260370696327, 3.1726404875865795, 3.1726404875865795, 3.1726404875865795, 3.1726404875865795, 2.0192562244159866, 1.4817732547878428, 1.456572805250112, 0.8458706009943182, 0.8006308461482075, 0.7302189293251361, 0.7088313416105511, 0.7088313416105511, 0.5261233564530601, 0.4745589687703235, 0.46531451856842865, 0.5653351553862167, 0.45537171492921263, 0.4383656512007157, 0.39260189155152275, 0.3971842366712148, 0.3971842366712148, 0.511652728029196, 0.3494565120885433, 0.34301050986284987, 0.40361195129708816, 0.40361195129708816, 0.3989523804515645, 0.3989523804515645, 1.7497480987600222, 0.9645260280571567, 0.9645260280571567], \"Total\": [36.0, 9.0, 10.0, 10.0, 11.0, 9.0, 8.0, 8.0, 10.0, 8.0, 10.0, 7.0, 8.0, 5.0, 8.0, 8.0, 9.0, 9.0, 6.0, 6.0, 6.0, 5.0, 6.0, 8.0, 7.0, 7.0, 7.0, 6.0, 5.0, 5.0, 36.740025857392794, 10.941314497109726, 9.014474899877289, 9.01417560767826, 8.237678773411696, 5.465475264562301, 3.958421713651399, 3.718441027523865, 2.6060593053273906, 2.5129516369270783, 2.447542839367867, 2.4246087687260354, 2.1491600644109394, 2.095721744232934, 2.081753565625106, 2.081753565625106, 1.973888231913614, 2.481986926356812, 1.8924576835870894, 1.7528999579491475, 1.741650094734048, 1.7306392363124392, 1.6815988290246955, 1.6815988290246955, 1.6905990143110692, 1.6641241339688921, 1.6290711919351786, 1.6290711919351786, 1.6290711919351786, 1.5671333515798984, 13.306843582818583, 7.260330127643899, 7.260330127643899, 2.0323820044122924, 11.761710739739272, 10.960776560169451, 8.759245905325445, 8.053199136361025, 8.055283466636068, 7.165234407514124, 7.134042980393494, 7.13405494716548, 6.895076134162575, 6.47392875802378, 5.490903565359405, 5.334284871942067, 5.334293872221377, 5.194973098237925, 4.444049769769095, 4.086802855458241, 3.759175176218955, 3.7458327470281874, 3.19319987013945, 2.963637911931675, 2.7542814036939878, 2.7602343736235917, 2.579902713741697, 2.2788518484571014, 2.2788502768462755, 2.153717049355477, 2.0429468976742524, 2.5754552459720697, 1.9396469735786852, 1.9096771173501583, 13.306843582818583, 7.260330127643899, 7.260330127643899, 10.181292102876279, 10.181292102876279, 8.450606057577021, 6.1827644863872955, 6.113593494628738, 5.458493611225016, 3.9583822741473913, 2.3432279716371736, 2.3432279716371736, 2.340198674942834, 2.2782925717382327, 2.1879559029800166, 2.0930434273685883, 1.9626441379613393, 1.7680303418210892, 1.7526109310779199, 1.7526109310779199, 1.7526109310779199, 1.7341375771908987, 1.734474286034787, 1.6972200926860161, 1.628019596206405, 1.5371979864980698, 1.5081828992750346, 1.4779512971056663, 1.4376053511093092, 1.4343073829027533, 1.4108166262625386, 1.4081490020900405, 1.3854851132040813, 13.306843582818583, 7.260330127643899, 7.260330127643899, 9.55164019786855, 7.168393337683842, 6.109794432761282, 6.109794432761282, 5.977518763420821, 5.2688218519514605, 3.6519427912900913, 3.6519427912900913, 3.6519427912900913, 2.7978772672792758, 4.7657968166082165, 2.3477061464118676, 2.2655027488831196, 2.1065001290139262, 1.7046530272111584, 1.8777762681443204, 2.3980135678577272, 1.7192744951367325, 1.5941684781341738, 1.5941684781341738, 1.5567595068997448, 1.5389991493873079, 1.5405607447113878, 1.5110257040838955, 1.5110257040838955, 1.5097096122875762, 1.5374311193301167, 1.442763928202591, 1.442763928202591, 1.495154382957471, 1.718562602623733, 1.495154382957471, 8.629217076139302, 8.629217076139302, 5.865425314412819, 3.7030973650779666, 3.7030973650779666, 3.7030973650779666, 2.4443729111001544, 2.407777556653628, 2.407777556653628, 2.1460362092017897, 2.1460362092017897, 2.1383020866599063, 2.0309812316637323, 2.0176222509474497, 1.8387449373705316, 1.6512251360743608, 1.6057910066247087, 1.6057910066247087, 1.6057910066247087, 1.5879115899570901, 1.514111206021713, 1.6102534307078942, 1.6102534538531112, 1.6102534538531112, 1.6102534538531112, 1.4766988272590609, 1.3954436163479564, 1.3954436163479564, 1.3949667607965535, 1.3949667607965535, 9.594268092508305, 4.33942756917495, 4.227642536976993, 4.227642536976993, 4.227642536976993, 4.227642536976993, 3.0683799231075874, 2.5317195218827853, 2.5053481222846674, 1.9861262525205337, 1.942334395918433, 1.786228907323892, 1.7532347499909422, 1.7532347499909422, 1.5695272270549543, 1.5181548368515054, 1.5087953066529378, 1.8547037514933182, 1.4999073838898231, 1.4819329574543705, 1.4396301491939258, 1.5481668865203428, 1.5481668865203428, 2.0323820044122924, 1.3933363081209167, 1.3868808631155711, 1.775395680666078, 1.775395680666078, 1.840825255180512, 1.840825255180512, 13.306843582818583, 7.260330127643899, 7.260330127643899], \"Category\": [\"Default\", \"Default\", \"Default\", \"Default\", \"Default\", \"Default\", \"Default\", \"Default\", \"Default\", \"Default\", \"Default\", \"Default\", \"Default\", \"Default\", \"Default\", \"Default\", \"Default\", \"Default\", \"Default\", \"Default\", \"Default\", \"Default\", \"Default\", \"Default\", \"Default\", \"Default\", \"Default\", \"Default\", \"Default\", \"Default\", \"Topic1\", \"Topic1\", \"Topic1\", \"Topic1\", \"Topic1\", \"Topic1\", \"Topic1\", \"Topic1\", \"Topic1\", \"Topic1\", \"Topic1\", \"Topic1\", \"Topic1\", \"Topic1\", \"Topic1\", \"Topic1\", \"Topic1\", \"Topic1\", \"Topic1\", \"Topic1\", \"Topic1\", \"Topic1\", \"Topic1\", \"Topic1\", \"Topic1\", \"Topic1\", \"Topic1\", \"Topic1\", \"Topic1\", \"Topic1\", \"Topic1\", \"Topic1\", \"Topic1\", \"Topic1\", \"Topic2\", \"Topic2\", \"Topic2\", \"Topic2\", \"Topic2\", \"Topic2\", \"Topic2\", \"Topic2\", \"Topic2\", \"Topic2\", \"Topic2\", \"Topic2\", \"Topic2\", \"Topic2\", \"Topic2\", \"Topic2\", \"Topic2\", \"Topic2\", \"Topic2\", \"Topic2\", \"Topic2\", \"Topic2\", \"Topic2\", \"Topic2\", \"Topic2\", \"Topic2\", \"Topic2\", \"Topic2\", \"Topic2\", \"Topic2\", \"Topic2\", \"Topic2\", \"Topic2\", \"Topic3\", \"Topic3\", \"Topic3\", \"Topic3\", \"Topic3\", \"Topic3\", \"Topic3\", \"Topic3\", \"Topic3\", \"Topic3\", \"Topic3\", \"Topic3\", \"Topic3\", \"Topic3\", \"Topic3\", \"Topic3\", \"Topic3\", \"Topic3\", \"Topic3\", \"Topic3\", \"Topic3\", \"Topic3\", \"Topic3\", \"Topic3\", \"Topic3\", \"Topic3\", \"Topic3\", \"Topic3\", \"Topic3\", \"Topic3\", \"Topic3\", \"Topic3\", \"Topic3\", \"Topic4\", \"Topic4\", \"Topic4\", \"Topic4\", \"Topic4\", \"Topic4\", \"Topic4\", \"Topic4\", \"Topic4\", \"Topic4\", \"Topic4\", \"Topic4\", \"Topic4\", \"Topic4\", \"Topic4\", \"Topic4\", \"Topic4\", \"Topic4\", \"Topic4\", \"Topic4\", \"Topic4\", \"Topic4\", \"Topic4\", \"Topic4\", \"Topic4\", \"Topic4\", \"Topic4\", \"Topic4\", \"Topic4\", \"Topic4\", \"Topic4\", \"Topic4\", \"Topic5\", \"Topic5\", \"Topic5\", \"Topic5\", \"Topic5\", \"Topic5\", \"Topic5\", \"Topic5\", \"Topic5\", \"Topic5\", \"Topic5\", \"Topic5\", \"Topic5\", \"Topic5\", \"Topic5\", \"Topic5\", \"Topic5\", \"Topic5\", \"Topic5\", \"Topic5\", \"Topic5\", \"Topic5\", \"Topic5\", \"Topic5\", \"Topic5\", \"Topic5\", \"Topic5\", \"Topic5\", \"Topic5\", \"Topic5\", \"Topic6\", \"Topic6\", \"Topic6\", \"Topic6\", \"Topic6\", \"Topic6\", \"Topic6\", \"Topic6\", \"Topic6\", \"Topic6\", \"Topic6\", \"Topic6\", \"Topic6\", \"Topic6\", \"Topic6\", \"Topic6\", \"Topic6\", \"Topic6\", \"Topic6\", \"Topic6\", \"Topic6\", \"Topic6\", \"Topic6\", \"Topic6\", \"Topic6\", \"Topic6\", \"Topic6\", \"Topic6\", \"Topic6\", \"Topic6\", \"Topic6\", \"Topic6\", \"Topic6\"], \"logprob\": [30.0, 29.0, 28.0, 27.0, 26.0, 25.0, 24.0, 23.0, 22.0, 21.0, 20.0, 19.0, 18.0, 17.0, 16.0, 15.0, 14.0, 13.0, 12.0, 11.0, 10.0, 9.0, 8.0, 7.0, 6.0, 5.0, 4.0, 3.0, 2.0, 1.0, -2.1339, -3.4101, -3.6243, -3.6244, -3.7149, -4.1904, -4.5926, -4.6779, -5.1809, -5.2368, -5.2786, -5.2938, -5.4983, -5.5393, -5.5528, -5.5528, -5.6501, -5.4212, -5.7294, -5.8898, -5.8964, -5.9093, -5.9723, -5.9723, -5.9788, -5.9956, -6.0426, -6.0426, -6.0426, -6.1578, -4.4785, -5.0804, -5.0804, -5.9806, -3.1522, -3.2296, -3.4851, -3.5764, -3.5769, -3.7131, -3.7208, -3.7208, -3.7659, -3.8344, -4.0299, -4.0692, -4.0692, -4.0985, -4.2987, -4.4095, -4.5228, -4.5299, -4.7581, -4.8702, -4.9819, -4.9814, -5.0911, -5.307, -5.307, -5.413, -5.5172, -5.3047, -5.6262, -5.6546, -3.8646, -4.5409, -4.5409, -3.0849, -3.0849, -3.2917, -3.6489, -3.6662, -3.7977, -4.208, -5.0, -5.0, -5.0038, -5.0497, -5.1201, -5.2079, -5.3413, -5.5592, -5.5775, -5.5775, -5.5775, -5.6015, -5.6032, -5.6529, -5.7577, -5.9168, -6.0082, -6.0588, -6.1254, -6.1296, -6.1855, -6.1904, -6.2459, -4.379, -4.9846, -4.9846, -3.1287, -3.4552, -3.6441, -3.6441, -3.6696, -3.8229, -4.299, -4.299, -4.299, -4.6942, -4.231, -4.974, -5.0371, -5.1844, -5.618, -5.5343, -5.3039, -5.692, -5.7875, -5.7875, -5.8697, -5.8827, -5.8949, -5.9362, -5.9362, -5.9414, -5.9992, -6.0798, -6.0798, -6.068, -6.0085, -6.068, -3.0981, -3.0981, -3.5418, -4.1331, -4.1331, -4.1331, -4.7606, -4.7888, -4.7888, -4.9981, -4.9981, -5.0113, -5.1109, -5.1852, -5.3115, -5.6038, -5.6434, -5.6434, -5.6434, -5.6732, -5.8117, -5.7659, -5.7659, -5.7659, -5.7659, -5.8885, -6.0828, -6.0828, -6.0854, -6.0854, -2.8462, -3.7986, -3.8365, -3.8365, -3.8365, -3.8365, -4.2883, -4.5978, -4.6149, -5.1584, -5.2134, -5.3054, -5.3352, -5.3352, -5.6332, -5.7364, -5.7561, -5.5614, -5.7777, -5.8157, -5.926, -5.9144, -5.9144, -5.6611, -6.0424, -6.061, -5.8983, -5.8983, -5.9099, -5.9099, -4.4316, -5.0271, -5.0271], \"loglift\": [30.0, 29.0, 28.0, 27.0, 26.0, 25.0, 24.0, 23.0, 22.0, 21.0, 20.0, 19.0, 18.0, 17.0, 16.0, 15.0, 14.0, 13.0, 12.0, 11.0, 10.0, 9.0, 8.0, 7.0, 6.0, 5.0, 4.0, 3.0, 2.0, 1.0, 1.4011, 1.3362, 1.3158, 1.3157, 1.3153, 1.25, 1.1704, 1.1476, 1.0001, 0.9806, 0.9652, 0.9594, 0.8755, 0.8597, 0.8528, 0.8528, 0.8088, 0.8086, 0.7716, 0.6878, 0.6877, 0.6811, 0.6468, 0.6468, 0.635, 0.6339, 0.6083, 0.6083, 0.6083, 0.5318, 0.0721, 0.0761, 0.0761, 0.449, 1.5218, 1.5149, 1.4837, 1.4764, 1.4756, 1.4566, 1.4532, 1.4532, 1.4422, 1.4366, 1.4059, 1.3955, 1.3955, 1.3926, 1.3486, 1.3216, 1.2919, 1.2883, 1.2198, 1.1822, 1.1438, 1.1422, 1.1, 1.0082, 1.0082, 0.9587, 0.9072, 0.8881, 0.8501, 0.8373, 0.686, 0.6156, 0.6156, 1.7335, 1.7335, 1.713, 1.6682, 1.6622, 1.644, 1.5551, 1.2874, 1.2874, 1.2848, 1.2657, 1.2358, 1.1924, 1.1233, 1.0098, 1.0002, 1.0002, 1.0002, 0.9869, 0.985, 0.957, 0.8938, 0.7921, 0.7198, 0.6895, 0.6505, 0.6486, 0.6092, 0.6062, 0.5669, 0.1716, 0.1719, 0.1719, 1.7534, 1.714, 1.6848, 1.6848, 1.6813, 1.6541, 1.5446, 1.5446, 1.5446, 1.4158, 1.3464, 1.3114, 1.284, 1.2095, 0.9875, 0.9744, 0.9603, 0.905, 0.885, 0.885, 0.8265, 0.825, 0.8118, 0.7898, 0.7898, 0.7856, 0.7095, 0.6925, 0.6925, 0.6687, 0.5889, 0.6687, 1.8856, 1.8856, 1.828, 1.6966, 1.6966, 1.6966, 1.4845, 1.4714, 1.4714, 1.3771, 1.3771, 1.3675, 1.3194, 1.2518, 1.2183, 1.0336, 1.0218, 1.0218, 1.0218, 1.0032, 0.9124, 0.8966, 0.8966, 0.8966, 0.8966, 0.8605, 0.7229, 0.7229, 0.7206, 0.7206, 2.0315, 1.8725, 1.8608, 1.8608, 1.8608, 1.8608, 1.7294, 1.6122, 1.6055, 1.2943, 1.2616, 1.2533, 1.2422, 1.2422, 1.0548, 0.985, 0.9715, 0.9598, 0.9558, 0.9298, 0.8485, 0.7874, 0.7874, 0.7685, 0.7648, 0.7508, 0.6665, 0.6665, 0.6187, 0.6187, 0.119, 0.1293, 0.1293]}, \"token.table\": {\"Topic\": [1, 2, 2, 4, 4, 6, 4, 4, 3, 5, 5, 4, 2, 1, 2, 6, 4, 6, 1, 4, 5, 3, 1, 5, 2, 6, 2, 1, 6, 1, 5, 2, 1, 2, 3, 6, 4, 1, 3, 5, 4, 1, 2, 1, 2, 3, 6, 1, 4, 3, 5, 3, 1, 1, 3, 2, 1, 2, 3, 6, 4, 6, 1, 1, 4, 2, 1, 2, 4, 4, 6, 1, 3, 3, 6, 5, 5, 1, 1, 5, 1, 5, 5, 3, 2, 3, 6, 4, 1, 4, 4, 3, 3, 6, 3, 2, 5, 4, 6, 2, 2, 6, 2, 4, 6, 4, 1, 4, 3, 4, 2, 2, 5, 4, 1, 2, 6, 1, 1, 5, 5, 2, 3, 4, 1, 5, 3, 3, 5, 5, 2, 4, 2, 5, 5, 2, 1, 2, 5, 5, 5, 3, 1, 1, 2, 3, 1, 3, 2, 2, 3, 2, 1, 4, 6, 1, 3, 2, 1, 3, 5, 1, 2, 2, 6, 6], \"Freq\": [0.7958768368680852, 0.7498649485417772, 0.8373766521452317, 0.6618021105116011, 0.8214805574597227, 0.7096153408810131, 0.4414031280663837, 0.8214805574597227, 0.8839742450231286, 0.6210202573891636, 0.46597536225725955, 0.8370076413717892, 0.5155577347948948, 0.6138467152022355, 0.4388177714702303, 0.5703742753246057, 0.8364674705159093, 0.539169664802181, 0.8248753472300862, 0.6491142938913079, 0.6227460459514899, 0.4267617202014352, 0.9139669646313169, 0.6604534700112771, 0.8689948688948174, 0.5598386611591617, 0.7699751133180561, 0.49203348476270914, 0.49203348476270914, 0.979857775270349, 0.9270829473186909, 0.9133206313041357, 0.2254479044056334, 0.3757465073427223, 0.1502986029370889, 0.1502986029370889, 0.6272862710034307, 0.5946721552963893, 0.7578853663511262, 0.8101326279701632, 0.6618021105116011, 0.5741681426272371, 0.4388174688394293, 0.2754695674766836, 0.4132043512150254, 0.1377347837383418, 0.1377347837383418, 0.5066142975230851, 0.6272862710034307, 0.5765435717620917, 0.6056109358760187, 0.5891987752851797, 0.7674422435097833, 0.5946721552963893, 0.8283429557958897, 0.8008900029986911, 0.2754695674766836, 0.4132043512150254, 0.1377347837383418, 0.1377347837383418, 0.5325448068359243, 0.7096153408810131, 0.6009167102306403, 0.4170118190337651, 0.4170118190337651, 0.6750599465396794, 0.887491030592483, 0.7340701536393586, 0.7591830037902086, 0.642359976327673, 0.503492665046308, 0.5284134005599184, 0.5705772925796847, 0.5656011530718358, 0.6913354243565324, 0.49237284146679355, 0.49563291618657196, 0.4029030086261781, 0.6381077902476229, 0.6210202484628367, 0.817146064955719, 0.6227460459514899, 0.4091028809306857, 0.8178496009577484, 0.7284775542653664, 0.45704760257644617, 0.7096153408810131, 0.4259476857989049, 0.4803642546901182, 0.8214805574597227, 0.47472107227836247, 0.4389251900325716, 0.808699734723616, 0.9380600910065938, 0.8839742450231286, 0.7723285483799935, 0.46597536225725955, 0.5816406878765865, 0.3991461270811674, 0.8410364153956978, 0.3882808686207878, 0.6371345350130627, 0.20982850055947053, 0.6294855016784116, 0.3949884619352785, 0.5866296448820539, 0.577821176717772, 0.7148276385778883, 0.42731414674629187, 0.9422465475624124, 0.9123441158666774, 0.9352380995763073, 0.9270829473186909, 0.8183581387271458, 0.8874615647450415, 0.6263309787472395, 0.6518097661043369, 0.591506319082711, 0.8067897212283397, 0.6210202484628367, 0.8101326279701632, 0.489488983359493, 0.6505342895212384, 0.6623790375718397, 0.7578778152044557, 0.6297579829535868, 0.5095167181141314, 0.4267617202014352, 0.5438492200174508, 0.8101326279701632, 0.46431354587607543, 0.6497729387297653, 0.5236487314607331, 0.41532075803124346, 0.6227460459514899, 0.6748462732063029, 0.4803642546901182, 0.7752230304449543, 0.4676607698410054, 0.41532075803124346, 0.6210202484628367, 0.7328029095379494, 0.46529805599849017, 0.8497539407088215, 0.7261422152862229, 0.47777317322900364, 0.6138467152022355, 0.5705772925796847, 0.8410378261653053, 0.7245761516165861, 0.5766555163517555, 0.7980474065104498, 0.6138467152022355, 0.8183581387271458, 0.5148444068649415, 0.9148335246194591, 0.5705772925796847, 0.870186185511745, 0.5704832129552772, 0.6142432206161339, 0.8524531013486351, 0.477162582652887, 0.749866213752418, 0.8692197822843195, 0.5703742753246057, 0.7096153408810131], \"Term\": [\"#\", \"air\", \"album\", \"am\", \"apple\", \"ball\", \"ban\", \"base\", \"bass\", \"blaming\", \"bond\", \"brother\", \"campaign\", \"carnival\", \"cast\", \"channel\", \"child\", \"circumstance\", \"citizen\", \"class\", \"conclusion\", \"content\", \"corona\", \"country\", \"course\", \"crime\", \"day\", \"debate\", \"debate\", \"debil\", \"debille\", \"debt\", \"device\", \"device\", \"device\", \"device\", \"dinner\", \"disease\", \"doctor\", \"dog\", \"doin\", \"economy\", \"effort\", \"exercise\", \"exercise\", \"exercise\", \"exercise\", \"expert\", \"father\", \"fun\", \"gentleman\", \"glove\", \"government\", \"guy\", \"gym\", \"hahahah\", \"hahahaha\", \"hahahaha\", \"hahahaha\", \"hahahaha\", \"hand\", \"head\", \"health\", \"hercegnovi\", \"hercegnovi\", \"history\", \"hoce\", \"horoscope\", \"hour\", \"house\", \"idea\", \"idiot\", \"indicator\", \"information\", \"insider\", \"insulation\", \"interview\", \"isolation\", \"kitchen\", \"lady\", \"life\", \"lithia\", \"lot\", \"luxury\", \"man\", \"mask\", \"match\", \"measure\", \"milveruovic\", \"min\", \"minister\", \"moment\", \"money\", \"monkey\", \"moron\", \"motivational\", \"mountain\", \"movement\", \"murder\", \"mystery\", \"n\", \"name\", \"night\", \"night\", \"occasion\", \"one\", \"order\", \"other\", \"outlet\", \"parent\", \"part\", \"people\", \"photo\", \"pineapple\", \"pit\", \"pizza\", \"plan\", \"planet\", \"pm\", \"posting\", \"praise\", \"prava\", \"profit\", \"protection\", \"quarantine\", \"question\", \"reaction\", \"reception\", \"rt\", \"sapcac\", \"setting\", \"sister\", \"situation\", \"skolism\", \"snug\", \"son\", \"street\", \"stupidity\", \"summer\", \"t\", \"text\", \"thank\", \"threat\", \"time\", \"tonight\", \"trainee\", \"trial\", \"trust\", \"truth\", \"twinshot\", \"vaccine\", \"vase\", \"verdict\", \"verenica\", \"video\", \"virus\", \"visit\", \"voice\", \"vu\\u010di\\u0107\", \"way\", \"week\", \"word\", \"writer\", \"year\", \"youtube\", \"\\u2019s\"]}, \"R\": 30, \"lambda.step\": 0.01, \"plot.opts\": {\"xlab\": \"PC1\", \"ylab\": \"PC2\"}, \"topic.order\": [2, 4, 1, 6, 3, 5]};\n",
       "\n",
       "function LDAvis_load_lib(url, callback){\n",
       "  var s = document.createElement('script');\n",
       "  s.src = url;\n",
       "  s.async = true;\n",
       "  s.onreadystatechange = s.onload = callback;\n",
       "  s.onerror = function(){console.warn(\"failed to load library \" + url);};\n",
       "  document.getElementsByTagName(\"head\")[0].appendChild(s);\n",
       "}\n",
       "\n",
       "if(typeof(LDAvis) !== \"undefined\"){\n",
       "   // already loaded: just create the visualization\n",
       "   !function(LDAvis){\n",
       "       new LDAvis(\"#\" + \"ldavis_el889291405075739800643611038114\", ldavis_el889291405075739800643611038114_data);\n",
       "   }(LDAvis);\n",
       "}else if(typeof define === \"function\" && define.amd){\n",
       "   // require.js is available: use it to load d3/LDAvis\n",
       "   require.config({paths: {d3: \"https://d3js.org/d3.v5\"}});\n",
       "   require([\"d3\"], function(d3){\n",
       "      window.d3 = d3;\n",
       "      LDAvis_load_lib(\"https://cdn.jsdelivr.net/gh/bmabey/pyLDAvis@3.3.1/pyLDAvis/js/ldavis.v3.0.0.js\", function(){\n",
       "        new LDAvis(\"#\" + \"ldavis_el889291405075739800643611038114\", ldavis_el889291405075739800643611038114_data);\n",
       "      });\n",
       "    });\n",
       "}else{\n",
       "    // require.js not available: dynamically load d3 & LDAvis\n",
       "    LDAvis_load_lib(\"https://d3js.org/d3.v5.js\", function(){\n",
       "         LDAvis_load_lib(\"https://cdn.jsdelivr.net/gh/bmabey/pyLDAvis@3.3.1/pyLDAvis/js/ldavis.v3.0.0.js\", function(){\n",
       "                 new LDAvis(\"#\" + \"ldavis_el889291405075739800643611038114\", ldavis_el889291405075739800643611038114_data);\n",
       "            })\n",
       "         });\n",
       "}\n",
       "</script>"
      ],
      "text/plain": [
       "PreparedData(topic_coordinates=              x         y  topics  cluster       Freq\n",
       "topic                                                \n",
       "1      0.035153 -0.105450       1        1  23.850950\n",
       "3     -0.161317 -0.000274       2        1  19.916205\n",
       "0      0.028200  0.025018       3        1  15.779040\n",
       "5      0.040895  0.044369       4        1  15.515717\n",
       "2      0.035721  0.025530       5        1  13.264489\n",
       "4      0.021348  0.010808       6        1  11.673599, topic_info=         Term       Freq      Total Category  logprob  loglift\n",
       "666     debil  36.000000  36.000000  Default  30.0000  30.0000\n",
       "500    monkey   9.000000   9.000000  Default  29.0000  29.0000\n",
       "668     moron  10.000000  10.000000  Default  28.0000  28.0000\n",
       "667      bass  10.000000  10.000000  Default  27.0000  27.0000\n",
       "39     people  11.000000  11.000000  Default  26.0000  26.0000\n",
       "..        ...        ...        ...      ...      ...      ...\n",
       "607  borrower   0.398952   1.840825   Topic6  -5.9099   0.6187\n",
       "608    legion   0.398952   1.840825   Topic6  -5.9099   0.6187\n",
       "657    device   1.749748  13.306844   Topic6  -4.4316   0.1190\n",
       "658  exercise   0.964526   7.260330   Topic6  -5.0271   0.1293\n",
       "659  hahahaha   0.964526   7.260330   Topic6  -5.0271   0.1293\n",
       "\n",
       "[225 rows x 6 columns], token_table=      Topic      Freq     Term\n",
       "term                          \n",
       "5         1  0.795877        #\n",
       "653       2  0.749865      air\n",
       "661       2  0.837377    album\n",
       "555       4  0.661802       am\n",
       "636       4  0.821481    apple\n",
       "...     ...       ...      ...\n",
       "135       1  0.477163     word\n",
       "652       2  0.749866   writer\n",
       "32        2  0.869220     year\n",
       "610       6  0.570374  youtube\n",
       "651       6  0.709615       ’s\n",
       "\n",
       "[166 rows x 3 columns], R=30, lambda_step=0.01, plot_opts={'xlab': 'PC1', 'ylab': 'PC2'}, topic_order=[2, 4, 1, 6, 3, 5])"
      ]
     },
     "execution_count": 311,
     "metadata": {},
     "output_type": "execute_result"
    }
   ],
   "source": [
    "pyLDAvis.enable_notebook()\n",
    "visualization = gensimvi.prepare(lda_model, corpus, id2word)\n",
    "visualization"
   ]
  }
 ],
 "metadata": {
  "kernelspec": {
   "display_name": "Python [conda env:ada] *",
   "language": "python",
   "name": "conda-env-ada-py"
  },
  "language_info": {
   "codemirror_mode": {
    "name": "ipython",
    "version": 3
   },
   "file_extension": ".py",
   "mimetype": "text/x-python",
   "name": "python",
   "nbconvert_exporter": "python",
   "pygments_lexer": "ipython3",
   "version": "3.9.13"
  }
 },
 "nbformat": 4,
 "nbformat_minor": 5
}
