{
 "cells": [
  {
   "cell_type": "markdown",
   "id": "4cc77980-da46-4019-8b3f-5e7d2153fcbc",
   "metadata": {},
   "source": [
    "### Influential people's tweets impact on people's thoughts"
   ]
  },
  {
   "cell_type": "markdown",
   "id": "2c282f67-7bf7-41f2-803d-18c0c957efa4",
   "metadata": {},
   "source": [
    "##### The idea of this part of project is to explore how influential people (politicians, journalists, singers, actors, etc.) from different countries used tweeter during the coronavirus pandemic. To see the correlation between their tweets and the tweets of normal daily Twitter users and Wikipedia users we will use the results of the analysis done in the first part of the project.\n",
    "\n",
    "<br/>"
   ]
  },
  {
   "cell_type": "code",
   "execution_count": 263,
   "id": "ddf99c59-497d-4414-ba4e-dcbe7f4e4997",
   "metadata": {},
   "outputs": [],
   "source": [
    "import pandas as pd\n",
    "import numpy as np\n",
    "\n",
    "import re\n",
    "import json\n",
    "import string\n",
    "from datetime import datetime, timedelta\n",
    "\n",
    "import translators as ts\n",
    "\n",
    "# Twitter library\n",
    "import tweepy\n",
    "\n",
    "#Data visualization libraries\n",
    "import matplotlib.pyplot as plt\n",
    "import seaborn as sns\n",
    "%matplotlib inline"
   ]
  },
  {
   "cell_type": "markdown",
   "id": "e7863fa1-89d4-4302-8add-91ace2606ba5",
   "metadata": {},
   "source": [
    "<br/>\n",
    "We are using intervention data (from the given dataset coronawiki) and WHO dataset with number of new cases and deaths each day during pandemic in order to define periods of interest to analyse tweets for each country."
   ]
  },
  {
   "cell_type": "code",
   "execution_count": 10,
   "id": "87d3f1b6-19b3-49bc-8cda-a07ec6de7aae",
   "metadata": {},
   "outputs": [
    {
     "data": {
      "text/html": [
       "<div>\n",
       "<style scoped>\n",
       "    .dataframe tbody tr th:only-of-type {\n",
       "        vertical-align: middle;\n",
       "    }\n",
       "\n",
       "    .dataframe tbody tr th {\n",
       "        vertical-align: top;\n",
       "    }\n",
       "\n",
       "    .dataframe thead th {\n",
       "        text-align: right;\n",
       "    }\n",
       "</style>\n",
       "<table border=\"1\" class=\"dataframe\">\n",
       "  <thead>\n",
       "    <tr style=\"text-align: right;\">\n",
       "      <th></th>\n",
       "      <th>1st case</th>\n",
       "      <th>1st death</th>\n",
       "      <th>School closure</th>\n",
       "      <th>Public events banned</th>\n",
       "      <th>Lockdown</th>\n",
       "      <th>Mobility</th>\n",
       "      <th>Normalcy</th>\n",
       "    </tr>\n",
       "    <tr>\n",
       "      <th>lang</th>\n",
       "      <th></th>\n",
       "      <th></th>\n",
       "      <th></th>\n",
       "      <th></th>\n",
       "      <th></th>\n",
       "      <th></th>\n",
       "      <th></th>\n",
       "    </tr>\n",
       "  </thead>\n",
       "  <tbody>\n",
       "    <tr>\n",
       "      <th>fr</th>\n",
       "      <td>2020-01-24</td>\n",
       "      <td>2020-02-14</td>\n",
       "      <td>2020-03-14</td>\n",
       "      <td>2020-03-13</td>\n",
       "      <td>2020-03-17</td>\n",
       "      <td>2020-03-16</td>\n",
       "      <td>2020-07-02</td>\n",
       "    </tr>\n",
       "    <tr>\n",
       "      <th>da</th>\n",
       "      <td>2020-02-27</td>\n",
       "      <td>2020-03-12</td>\n",
       "      <td>2020-03-13</td>\n",
       "      <td>2020-03-12</td>\n",
       "      <td>2020-03-18</td>\n",
       "      <td>2020-03-11</td>\n",
       "      <td>2020-06-05</td>\n",
       "    </tr>\n",
       "    <tr>\n",
       "      <th>de</th>\n",
       "      <td>2020-01-27</td>\n",
       "      <td>2020-03-09</td>\n",
       "      <td>2020-03-14</td>\n",
       "      <td>2020-03-22</td>\n",
       "      <td>2020-03-22</td>\n",
       "      <td>2020-03-16</td>\n",
       "      <td>2020-07-10</td>\n",
       "    </tr>\n",
       "    <tr>\n",
       "      <th>it</th>\n",
       "      <td>2020-01-31</td>\n",
       "      <td>2020-02-22</td>\n",
       "      <td>2020-03-05</td>\n",
       "      <td>2020-03-09</td>\n",
       "      <td>2020-03-11</td>\n",
       "      <td>2020-03-11</td>\n",
       "      <td>2020-06-26</td>\n",
       "    </tr>\n",
       "    <tr>\n",
       "      <th>nl</th>\n",
       "      <td>2020-02-27</td>\n",
       "      <td>2020-03-06</td>\n",
       "      <td>2020-03-11</td>\n",
       "      <td>2020-03-24</td>\n",
       "      <td>NaT</td>\n",
       "      <td>2020-03-16</td>\n",
       "      <td>2020-05-29</td>\n",
       "    </tr>\n",
       "  </tbody>\n",
       "</table>\n",
       "</div>"
      ],
      "text/plain": [
       "       1st case  1st death School closure Public events banned   Lockdown  \\\n",
       "lang                                                                        \n",
       "fr   2020-01-24 2020-02-14     2020-03-14           2020-03-13 2020-03-17   \n",
       "da   2020-02-27 2020-03-12     2020-03-13           2020-03-12 2020-03-18   \n",
       "de   2020-01-27 2020-03-09     2020-03-14           2020-03-22 2020-03-22   \n",
       "it   2020-01-31 2020-02-22     2020-03-05           2020-03-09 2020-03-11   \n",
       "nl   2020-02-27 2020-03-06     2020-03-11           2020-03-24        NaT   \n",
       "\n",
       "       Mobility   Normalcy  \n",
       "lang                        \n",
       "fr   2020-03-16 2020-07-02  \n",
       "da   2020-03-11 2020-06-05  \n",
       "de   2020-03-16 2020-07-10  \n",
       "it   2020-03-11 2020-06-26  \n",
       "nl   2020-03-16 2020-05-29  "
      ]
     },
     "execution_count": 10,
     "metadata": {},
     "output_type": "execute_result"
    }
   ],
   "source": [
    "# Importing intervention dates for each country\n",
    "data_path = './data/'\n",
    "\n",
    "interventions = pd.read_csv(data_path + 'interventions.csv', delimiter=',', \n",
    "                            parse_dates=['1st case','1st death','School closure',\n",
    "                                         'Public events banned','Lockdown','Mobility','Normalcy'])\n",
    "\n",
    "interventions.set_index('lang', inplace = True)\n",
    "interventions.head()"
   ]
  },
  {
   "cell_type": "code",
   "execution_count": 56,
   "id": "622535d0-3abb-4909-82ac-538723cc5742",
   "metadata": {},
   "outputs": [
    {
     "data": {
      "text/html": [
       "<div>\n",
       "<style scoped>\n",
       "    .dataframe tbody tr th:only-of-type {\n",
       "        vertical-align: middle;\n",
       "    }\n",
       "\n",
       "    .dataframe tbody tr th {\n",
       "        vertical-align: top;\n",
       "    }\n",
       "\n",
       "    .dataframe thead th {\n",
       "        text-align: right;\n",
       "    }\n",
       "</style>\n",
       "<table border=\"1\" class=\"dataframe\">\n",
       "  <thead>\n",
       "    <tr style=\"text-align: right;\">\n",
       "      <th></th>\n",
       "      <th>Country_code</th>\n",
       "      <th>Country</th>\n",
       "      <th>WHO_region</th>\n",
       "      <th>New_cases</th>\n",
       "      <th>Cumulative_cases</th>\n",
       "      <th>New_deaths</th>\n",
       "      <th>Cumulative_deaths</th>\n",
       "    </tr>\n",
       "    <tr>\n",
       "      <th>Date_reported</th>\n",
       "      <th></th>\n",
       "      <th></th>\n",
       "      <th></th>\n",
       "      <th></th>\n",
       "      <th></th>\n",
       "      <th></th>\n",
       "      <th></th>\n",
       "    </tr>\n",
       "  </thead>\n",
       "  <tbody>\n",
       "    <tr>\n",
       "      <th>2020-01-03</th>\n",
       "      <td>AF</td>\n",
       "      <td>Afghanistan</td>\n",
       "      <td>EMRO</td>\n",
       "      <td>0</td>\n",
       "      <td>0</td>\n",
       "      <td>0</td>\n",
       "      <td>0</td>\n",
       "    </tr>\n",
       "    <tr>\n",
       "      <th>2020-01-04</th>\n",
       "      <td>AF</td>\n",
       "      <td>Afghanistan</td>\n",
       "      <td>EMRO</td>\n",
       "      <td>0</td>\n",
       "      <td>0</td>\n",
       "      <td>0</td>\n",
       "      <td>0</td>\n",
       "    </tr>\n",
       "    <tr>\n",
       "      <th>2020-01-05</th>\n",
       "      <td>AF</td>\n",
       "      <td>Afghanistan</td>\n",
       "      <td>EMRO</td>\n",
       "      <td>0</td>\n",
       "      <td>0</td>\n",
       "      <td>0</td>\n",
       "      <td>0</td>\n",
       "    </tr>\n",
       "    <tr>\n",
       "      <th>2020-01-06</th>\n",
       "      <td>AF</td>\n",
       "      <td>Afghanistan</td>\n",
       "      <td>EMRO</td>\n",
       "      <td>0</td>\n",
       "      <td>0</td>\n",
       "      <td>0</td>\n",
       "      <td>0</td>\n",
       "    </tr>\n",
       "    <tr>\n",
       "      <th>2020-01-07</th>\n",
       "      <td>AF</td>\n",
       "      <td>Afghanistan</td>\n",
       "      <td>EMRO</td>\n",
       "      <td>0</td>\n",
       "      <td>0</td>\n",
       "      <td>0</td>\n",
       "      <td>0</td>\n",
       "    </tr>\n",
       "  </tbody>\n",
       "</table>\n",
       "</div>"
      ],
      "text/plain": [
       "              Country_code      Country WHO_region  New_cases  \\\n",
       "Date_reported                                                   \n",
       "2020-01-03              AF  Afghanistan       EMRO          0   \n",
       "2020-01-04              AF  Afghanistan       EMRO          0   \n",
       "2020-01-05              AF  Afghanistan       EMRO          0   \n",
       "2020-01-06              AF  Afghanistan       EMRO          0   \n",
       "2020-01-07              AF  Afghanistan       EMRO          0   \n",
       "\n",
       "               Cumulative_cases  New_deaths  Cumulative_deaths  \n",
       "Date_reported                                                   \n",
       "2020-01-03                    0           0                  0  \n",
       "2020-01-04                    0           0                  0  \n",
       "2020-01-05                    0           0                  0  \n",
       "2020-01-06                    0           0                  0  \n",
       "2020-01-07                    0           0                  0  "
      ]
     },
     "execution_count": 56,
     "metadata": {},
     "output_type": "execute_result"
    }
   ],
   "source": [
    "who_data = pd.read_csv(data_path + 'WHO-COVID-19-global-data.csv', delimiter=',')\n",
    "\n",
    "who_data.set_index('Date_reported', inplace = True)\n",
    "who_data.head()"
   ]
  },
  {
   "cell_type": "code",
   "execution_count": 64,
   "id": "9930c238-922f-421d-b7db-484c3d6c728d",
   "metadata": {},
   "outputs": [],
   "source": [
    "# Importing pagelogs time series\n",
    "data_path = './data/'\n",
    "with open(data_path+'aggregated_timeseries.json','r') as file:\n",
    "    pagelogs_time_series = json.load(file)"
   ]
  },
  {
   "cell_type": "markdown",
   "id": "9d315bc3-f96e-4293-b9d1-88aebd22b0cc",
   "metadata": {},
   "source": [
    "We are starting our analysis by defining lists containing the names of the analysed countries and the spoken languages in those contries. We will focus on Europian countires from the given dataset."
   ]
  },
  {
   "cell_type": "code",
   "execution_count": 15,
   "id": "d03e218e-10ca-4be8-81b1-57e2335c3fe3",
   "metadata": {},
   "outputs": [],
   "source": [
    "# List of countires and langugeges spoken in this countries\n",
    "countries = ['FR','DK','DE','IT','NL','NO','SE','RS','FI','GB']\n",
    "languages = ['fr','da','de','it','nl','no','sv','sr','fi','en']"
   ]
  },
  {
   "cell_type": "markdown",
   "id": "9f6b4cf4-c0b0-4bd7-9bca-bc108289dc1e",
   "metadata": {},
   "source": [
    "<br/>\n",
    "For the first stage, we will focus on retrieving tweets of influential people from Serbia and Italy (our homelands) for easier verification of the results."
   ]
  },
  {
   "cell_type": "code",
   "execution_count": 39,
   "id": "cd78be84-3a6e-4c36-bcb4-63df4d2ef74e",
   "metadata": {},
   "outputs": [],
   "source": [
    "# List of Twitter accounts of influental people from different countries\n",
    "serbian_influential_people = ['avucic', 'SerbianPM', 'DraganDjilas', 'MarinikaTepic', 'JugoslavCosic',\n",
    "                              'futomaki', 'VladoGeorgiev', 'brankica_st', 'OAmidzic']\n",
    "italian_influential_people = ['lorenzojova']"
   ]
  },
  {
   "cell_type": "code",
   "execution_count": 35,
   "id": "2228fe2d-40cc-47a4-b843-824a0f97c2e2",
   "metadata": {},
   "outputs": [],
   "source": [
    "# reading bearer tokens which we need to access Twitter API\n",
    "with open(data_path+'BearerTokens.json','r') as file:\n",
    "    bearer_tokens = json.load(file)"
   ]
  },
  {
   "cell_type": "code",
   "execution_count": 199,
   "id": "434b1eaa-ba5c-4cc1-960f-b8eac2c95baa",
   "metadata": {},
   "outputs": [
    {
     "name": "stdout",
     "output_type": "stream",
     "text": [
      "356450858 Александар Вучић avucic\n",
      "3036495555 Aна Брнабић SerbianPM\n",
      "205153283 Dragan Djilas DraganDjilas\n",
      "834073582514888710 Marinika Tepić MarinikaTepic\n",
      "2814717661 Jugoslav Ćosić JugoslavCosic\n",
      "181338564 Marija Serifovic futomaki\n",
      "41577631 Vlado Georgiev - Barba VladoGeorgiev\n",
      "1087237020 Brankica Stankovic brankica_st\n",
      "324198256 ognjen amidzic OAmidzic\n"
     ]
    }
   ],
   "source": [
    "client = tweepy.Client(bearer_token=bearer_tokens[\"maja\"], wait_on_rate_limit=True)\n",
    "\n",
    "# getting users accounts from twitter\n",
    "serbian_users = []\n",
    "for username in serbian_influential_people:\n",
    "    serbian_users.append(client.get_user(username=username))\n",
    "\n",
    "for user in serbian_users: print(user.data.id, user.data.name, user.data.username)"
   ]
  },
  {
   "cell_type": "markdown",
   "id": "5a93d787-9afb-4f30-9952-5a903355af48",
   "metadata": {},
   "source": [
    "<br/>\n",
    "We want to retrieve tweets from different periods during pandemic, but mostly focusing on weeks preceding intervention days or period with peeks in number of new cases and people's deaths."
   ]
  },
  {
   "cell_type": "code",
   "execution_count": 244,
   "id": "07665e5f-b5e5-44a1-a4e3-5d71da5cc526",
   "metadata": {},
   "outputs": [
    {
     "name": "stdout",
     "output_type": "stream",
     "text": [
      "Serbia 2020-03-01 00:00:00 - 2020-03-20 00:00:00\n",
      "Italy 2020-02-20 00:00:00 - 2020-03-10 00:00:00\n"
     ]
    }
   ],
   "source": [
    "# ! Riccardo's code. Do not copy (merge to one notebook for now)\n",
    "# Defining period of interest for each country. Dates refered to 3 weeks before the first lockdown\n",
    "lockdown_dates =  [interventions.loc[lang, 'Lockdown'] for lang in languages]\n",
    "\n",
    "period_per_countries = {}\n",
    "for idx,country in enumerate(countries):\n",
    "    lang = languages[idx]\n",
    "    dates = [datetime.strptime(date.split()[0], '%Y-%m-%d')  for date in list(pagelogs_time_series[lang]['sum'].keys())]\n",
    "    dates = [date for date in dates if (lockdown_dates[idx] - date < timedelta(21)) and \n",
    "             (lockdown_dates[idx] - date >  timedelta(0))]\n",
    "    period_per_countries[country] = dates\n",
    "    \n",
    "print('Serbia',period_per_countries['RS'][0],'-',period_per_countries['RS'][-1])\n",
    "print('Italy',period_per_countries['IT'][0],'-',period_per_countries['IT'][-1])"
   ]
  },
  {
   "cell_type": "code",
   "execution_count": 301,
   "id": "6949d8da-4b33-43f1-9b42-dd0b37107e2c",
   "metadata": {},
   "outputs": [],
   "source": [
    "# Create empty dataframe (execute once - no need again)\n",
    "df = pd.DataFrame(columns=['id','country_code', 'lang', 'user', 'tweet_text_orginal', \n",
    "                           'tweet_text_en', 'tweet_date', 'context_annotations'])\n",
    "\n",
    "df.to_csv('influential_people_tweets_new.csv', index=False)"
   ]
  },
  {
   "cell_type": "code",
   "execution_count": 303,
   "id": "ac9124a8-2b1c-48d4-b74b-c952491de7d1",
   "metadata": {},
   "outputs": [],
   "source": [
    "def update_influental_people_dataframe(client, country_code, lang, users, dates):\n",
    "    start_time = dates[country_code][0]\n",
    "    end_time = dates[country_code][-1] \n",
    "    \n",
    "    influential_people_tweets = pd.read_csv('influential_people_tweets.csv', delimiter=',')\n",
    "    \n",
    "    for user in users:\n",
    "        # We define a proper query to get tweets from the country we're interested in\n",
    "        query = \"from:{} -is:retweet\".format(user.data.id)\n",
    "                \n",
    "        tweets = client.search_all_tweets(query, max_results=100, \n",
    "                                      start_time=start_time, end_time=end_time,\n",
    "                                      tweet_fields=['id','text','context_annotations','created_at'])\n",
    "        \n",
    "        if(tweets.data == None): continue\n",
    "        \n",
    "        for tweet in tweets.data: \n",
    "            tweet_en = tweet.text\n",
    "            if lang != 'en':\n",
    "                try:\n",
    "                    tweet_en = ts.google(tweet.text)\n",
    "                except:\n",
    "                    tweet_en = None\n",
    "                    \n",
    "            if tweet_en != None:\n",
    "                # We remove punctuation\n",
    "                tweet_en = (\"\".join([ch for ch in tweet_en if ch not in string.punctuation])).lower()\n",
    "                # We remove numbers\n",
    "                tweet_en = re.sub(\"\\d+\", \"\", tweet_en).strip()\n",
    "\n",
    "            new_tweet = pd.DataFrame([{'id': tweet.id, 'country_code': country_code, 'lang': lang, 'user': user,\n",
    "                                       'tweet_text_orginal': tweet.text, 'tweet_text_en': tweet_en, \n",
    "                                       'tweet_date': tweet.created_at,\n",
    "                                       'context_annotations': tweet.context_annotations }])\n",
    "            \n",
    "            influential_people_tweets = pd.concat([influential_people_tweets, new_tweet], axis=0, ignore_index=True)\n",
    "        \n",
    "    \n",
    "    influential_people_tweets.to_csv('influential_people_tweets.csv')\n",
    "    return influential_people_tweets"
   ]
  },
  {
   "cell_type": "code",
   "execution_count": 305,
   "id": "0fa56868-8ab5-4e9f-870d-549a4829883c",
   "metadata": {},
   "outputs": [],
   "source": [
    "# !!! CAREFUL - retrieving tweets (delete the dot from line below to execute)\n",
    ".\n",
    "influential_people_tweets = update_influental_people_dataframe(client, 'RS', 'sr', serbian_users,  period_per_countries)"
   ]
  },
  {
   "cell_type": "markdown",
   "id": "a39f3f95-32e2-4df2-95d5-70d9c2b41b78",
   "metadata": {},
   "source": [
    "For each tweet (or group of tweets) of users we would like to recognise to which topics tweets are related, what are most common used words in tweets and to check sentyment of the tweets. All of this can be useful to understand the way communication has changed during the pandemic and impacted people."
   ]
  },
  {
   "cell_type": "markdown",
   "id": "1f62b280-ea28-4644-bd31-264a3842d65b",
   "metadata": {},
   "source": [
    "* topics and emotinons of riccardo --> DONE\n",
    "* most common words --> need corrections\n",
    "* most common hashtags --> DONE\n",
    "* and maybe google api sentiment/topcis"
   ]
  },
  {
   "cell_type": "code",
   "execution_count": 306,
   "id": "dcd9fd30-bac1-468d-aece-a7979a40be7b",
   "metadata": {},
   "outputs": [
    {
     "data": {
      "text/html": [
       "<div>\n",
       "<style scoped>\n",
       "    .dataframe tbody tr th:only-of-type {\n",
       "        vertical-align: middle;\n",
       "    }\n",
       "\n",
       "    .dataframe tbody tr th {\n",
       "        vertical-align: top;\n",
       "    }\n",
       "\n",
       "    .dataframe thead th {\n",
       "        text-align: right;\n",
       "    }\n",
       "</style>\n",
       "<table border=\"1\" class=\"dataframe\">\n",
       "  <thead>\n",
       "    <tr style=\"text-align: right;\">\n",
       "      <th></th>\n",
       "      <th>Unnamed: 0</th>\n",
       "      <th>id</th>\n",
       "      <th>country_code</th>\n",
       "      <th>lang</th>\n",
       "      <th>user</th>\n",
       "      <th>tweet_text_orginal</th>\n",
       "      <th>tweet_text_en</th>\n",
       "      <th>tweet_date</th>\n",
       "      <th>context_annotations</th>\n",
       "    </tr>\n",
       "  </thead>\n",
       "  <tbody>\n",
       "    <tr>\n",
       "      <th>0</th>\n",
       "      <td>0</td>\n",
       "      <td>1240013952861511680</td>\n",
       "      <td>RS</td>\n",
       "      <td>sr</td>\n",
       "      <td>Response(data=&lt;User id=356450858 name=Александ...</td>\n",
       "      <td>Поносни смо на наше пријатељство.\\nНикада неће...</td>\n",
       "      <td>we are proud of our friendship \\n we will neve...</td>\n",
       "      <td>2020-03-17 20:35:39+00:00</td>\n",
       "      <td>[]</td>\n",
       "    </tr>\n",
       "    <tr>\n",
       "      <th>1</th>\n",
       "      <td>1</td>\n",
       "      <td>1239873649999523845</td>\n",
       "      <td>RS</td>\n",
       "      <td>sr</td>\n",
       "      <td>Response(data=&lt;User id=356450858 name=Александ...</td>\n",
       "      <td>Бескрајно хвала на свему нашој кинеској браћи ...</td>\n",
       "      <td>infinitely thank you for all our chinese broth...</td>\n",
       "      <td>2020-03-17 11:18:08+00:00</td>\n",
       "      <td>[{'domain': {'id': '123', 'name': 'Ongoing New...</td>\n",
       "    </tr>\n",
       "    <tr>\n",
       "      <th>2</th>\n",
       "      <td>2</td>\n",
       "      <td>1239310408760074240</td>\n",
       "      <td>RS</td>\n",
       "      <td>sr</td>\n",
       "      <td>Response(data=&lt;User id=356450858 name=Александ...</td>\n",
       "      <td>Предаја није, никада није била и никада неће б...</td>\n",
       "      <td>the surrender is not it was never and will nev...</td>\n",
       "      <td>2020-03-15 22:00:01+00:00</td>\n",
       "      <td>[]</td>\n",
       "    </tr>\n",
       "    <tr>\n",
       "      <th>3</th>\n",
       "      <td>3</td>\n",
       "      <td>1238813645385187328</td>\n",
       "      <td>RS</td>\n",
       "      <td>sr</td>\n",
       "      <td>Response(data=&lt;User id=356450858 name=Александ...</td>\n",
       "      <td>Pадимо, боримо се и урадићемо све што треба. С...</td>\n",
       "      <td>we fall we fight and we will do whatever you n...</td>\n",
       "      <td>2020-03-14 13:06:03+00:00</td>\n",
       "      <td>[]</td>\n",
       "    </tr>\n",
       "    <tr>\n",
       "      <th>4</th>\n",
       "      <td>4</td>\n",
       "      <td>1237796648161599491</td>\n",
       "      <td>RS</td>\n",
       "      <td>sr</td>\n",
       "      <td>Response(data=&lt;User id=356450858 name=Александ...</td>\n",
       "      <td>Одлуке доноси струка, не политика.\\nХвала наши...</td>\n",
       "      <td>decisions make a profession not politics \\n th...</td>\n",
       "      <td>2020-03-11 17:44:52+00:00</td>\n",
       "      <td>[]</td>\n",
       "    </tr>\n",
       "  </tbody>\n",
       "</table>\n",
       "</div>"
      ],
      "text/plain": [
       "   Unnamed: 0                   id country_code lang  \\\n",
       "0           0  1240013952861511680           RS   sr   \n",
       "1           1  1239873649999523845           RS   sr   \n",
       "2           2  1239310408760074240           RS   sr   \n",
       "3           3  1238813645385187328           RS   sr   \n",
       "4           4  1237796648161599491           RS   sr   \n",
       "\n",
       "                                                user  \\\n",
       "0  Response(data=<User id=356450858 name=Александ...   \n",
       "1  Response(data=<User id=356450858 name=Александ...   \n",
       "2  Response(data=<User id=356450858 name=Александ...   \n",
       "3  Response(data=<User id=356450858 name=Александ...   \n",
       "4  Response(data=<User id=356450858 name=Александ...   \n",
       "\n",
       "                                  tweet_text_orginal  \\\n",
       "0  Поносни смо на наше пријатељство.\\nНикада неће...   \n",
       "1  Бескрајно хвала на свему нашој кинеској браћи ...   \n",
       "2  Предаја није, никада није била и никада неће б...   \n",
       "3  Pадимо, боримо се и урадићемо све што треба. С...   \n",
       "4  Одлуке доноси струка, не политика.\\nХвала наши...   \n",
       "\n",
       "                                       tweet_text_en  \\\n",
       "0  we are proud of our friendship \\n we will neve...   \n",
       "1  infinitely thank you for all our chinese broth...   \n",
       "2  the surrender is not it was never and will nev...   \n",
       "3  we fall we fight and we will do whatever you n...   \n",
       "4  decisions make a profession not politics \\n th...   \n",
       "\n",
       "                  tweet_date  \\\n",
       "0  2020-03-17 20:35:39+00:00   \n",
       "1  2020-03-17 11:18:08+00:00   \n",
       "2  2020-03-15 22:00:01+00:00   \n",
       "3  2020-03-14 13:06:03+00:00   \n",
       "4  2020-03-11 17:44:52+00:00   \n",
       "\n",
       "                                 context_annotations  \n",
       "0                                                 []  \n",
       "1  [{'domain': {'id': '123', 'name': 'Ongoing New...  \n",
       "2                                                 []  \n",
       "3                                                 []  \n",
       "4                                                 []  "
      ]
     },
     "execution_count": 306,
     "metadata": {},
     "output_type": "execute_result"
    }
   ],
   "source": [
    "influential_people_tweets = pd.read_csv('influential_people_tweets.csv', delimiter=',')\n",
    "influential_people_tweets.head()"
   ]
  },
  {
   "cell_type": "code",
   "execution_count": 307,
   "id": "6e9e6974-5a25-414b-a509-ff217c32af9c",
   "metadata": {},
   "outputs": [],
   "source": [
    "topics = ['help','medical_emergency','health','government','school','kill','art','play','computer',\n",
    "         'home','business','religion','sports','death','military','music','science','fun','economics',\n",
    "         'technology','philosophy','geography','tv','architecture']\n",
    "\n",
    "emotions = [\"suffering\",\"optimism\",\"fear\",\"sadness\",\"joy\",\"anger\",\"pain\",\"negative_emotion\",\"positive_emotion\",\n",
    "           \"happiness\"]"
   ]
  },
  {
   "cell_type": "code",
   "execution_count": 309,
   "id": "457eb5f9-8250-4bfa-b4e9-dd25361e9e32",
   "metadata": {},
   "outputs": [],
   "source": [
    "# Libray to infer the topics discussed in each tweet\n",
    "from empath import Empath\n",
    "lexicon = Empath()"
   ]
  },
  {
   "cell_type": "code",
   "execution_count": 318,
   "id": "b44a15c2-d221-45cb-be23-86a9b093650c",
   "metadata": {},
   "outputs": [
    {
     "data": {
      "text/plain": [
       "Text(0.5, 0, 'Normalized Score')"
      ]
     },
     "execution_count": 318,
     "metadata": {},
     "output_type": "execute_result"
    },
    {
     "data": {
      "image/png": "[encoded data removed]",
      "text/plain": [
       "<Figure size 640x480 with 1 Axes>"
      ]
     },
     "metadata": {},
     "output_type": "display_data"
    }
   ],
   "source": [
    "fig,ax = plt.subplots(1)\n",
    "\n",
    "# We infer the topics discussed in the retrieved tweets\n",
    "classified_topics = pd.DataFrame([lexicon.analyze(influential_people_tweets['tweet_text_en'].str.cat(sep = ' '),\n",
    "                                                  categories = topics, \n",
    "                                                  normalize = True)], index = ['RS']).T\n",
    "\n",
    "classified_topics = classified_topics.sort_values(by = ['RS'], ascending = False)\n",
    "classified_topics.reset_index(inplace = True)\n",
    "sns.barplot(data = classified_topics, x = 'RS', y = 'index')\n",
    "\n",
    "plt.ylabel('Topics', fontsize = 14)\n",
    "plt.title('Topics discussed in Serbia during the 3 weeks preceding the official lockdown')\n",
    "plt.ylabel('Categories')\n",
    "plt.xlabel('Normalized Score')"
   ]
  },
  {
   "cell_type": "code",
   "execution_count": 319,
   "id": "a31784d1-a1d3-4352-9641-561ed2d6363a",
   "metadata": {},
   "outputs": [
    {
     "data": {
      "text/plain": [
       "Text(0.5, 0, 'Normalized Score')"
      ]
     },
     "execution_count": 319,
     "metadata": {},
     "output_type": "execute_result"
    },
    {
     "data": {
      "image/png": "[encoded data removed]",
      "text/plain": [
       "<Figure size 640x480 with 1 Axes>"
      ]
     },
     "metadata": {},
     "output_type": "display_data"
    }
   ],
   "source": [
    "fig,ax = plt.subplots(1)\n",
    "\n",
    "# We infer the topics discussed in the retrieved tweets\n",
    "classified_emotions = pd.DataFrame([lexicon.analyze(influential_people_tweets['tweet_text_en'].str.cat(sep = ' '),\n",
    "                                                    categories = emotions, \n",
    "                                                    normalize = True)], index = ['RS']).T\n",
    "\n",
    "classified_emotions = classified_emotions.sort_values(by = ['RS'], ascending = False)\n",
    "classified_emotions.reset_index(inplace = True)\n",
    "sns.barplot(data = classified_emotions, x = 'RS', y = 'index')\n",
    "\n",
    "plt.ylabel('Emotions', fontsize = 14)\n",
    "plt.title('Dominating emotions in tweets posted in Serbia during the 3 weeks preceding the official lockdown')\n",
    "plt.ylabel('Emotions')\n",
    "plt.xlabel('Normalized Score')"
   ]
  },
  {
   "cell_type": "code",
   "execution_count": 358,
   "id": "8cc0cd6c-fa92-42b6-9aa5-6db6710d6609",
   "metadata": {},
   "outputs": [
    {
     "data": {
      "text/plain": [
       "<AxesSubplot:xlabel='Word'>"
      ]
     },
     "execution_count": 358,
     "metadata": {},
     "output_type": "execute_result"
    },
    {
     "data": {
      "image/png": "[encoded data removed]",
      "text/plain": [
       "<Figure size 640x480 with 1 Axes>"
      ]
     },
     "metadata": {},
     "output_type": "display_data"
    }
   ],
   "source": [
    "from collections import Counter\n",
    "\n",
    "# TODO: must find some dictionary with pronouns, articles, ... and remove it from common words; or some \n",
    "# library which can check is word noun/verb\n",
    "\n",
    "# it would be nice to use some tokenizer such as 'spacy' instead split(); have checks is words noun I think \n",
    "\n",
    "all_words = (\"\".join(influential_people_tweets['tweet_text_en'].str.cat(sep = ' '))).split()\n",
    "most_common_words = Counter(all_words).most_common(20)\n",
    "\n",
    "df = pd.DataFrame(most_common_words, columns = ['Word', 'Count'])\n",
    "df.plot.bar(x='Word',y='Count')"
   ]
  },
  {
   "cell_type": "code",
   "execution_count": 352,
   "id": "545362e1-a1b5-4c30-8db3-ec93d4622355",
   "metadata": {},
   "outputs": [
    {
     "data": {
      "text/plain": [
       "[]"
      ]
     },
     "execution_count": 352,
     "metadata": {},
     "output_type": "execute_result"
    }
   ],
   "source": [
    "# this should work, but made mistake by removing punctuation :( - load dataset again\n",
    "\n",
    "hashtags = []\n",
    "for word in all_words: \n",
    "    if(word[0] == '#'):\n",
    "        hashtags.append(word)\n",
    "        \n",
    "Counter(hashtags).most_common(10)"
   ]
  },
  {
   "cell_type": "code",
   "execution_count": 360,
   "id": "903a4cd3-3093-4249-a8de-7afb710bec3d",
   "metadata": {},
   "outputs": [],
   "source": [
    "# TODO: sentiment analysis - e.g. google API or BERT "
   ]
  },
  {
   "cell_type": "code",
   "execution_count": null,
   "id": "0697e27f-3cb3-4fd4-bbfd-b540fa2abb52",
   "metadata": {},
   "outputs": [],
   "source": []
  }
 ],
 "metadata": {
  "kernelspec": {
   "display_name": "Python [conda env:ada] *",
   "language": "python",
   "name": "conda-env-ada-py"
  },
  "language_info": {
   "codemirror_mode": {
    "name": "ipython",
    "version": 3
   },
   "file_extension": ".py",
   "mimetype": "text/x-python",
   "name": "python",
   "nbconvert_exporter": "python",
   "pygments_lexer": "ipython3",
   "version": "3.9.13"
  }
 },
 "nbformat": 4,
 "nbformat_minor": 5
}
