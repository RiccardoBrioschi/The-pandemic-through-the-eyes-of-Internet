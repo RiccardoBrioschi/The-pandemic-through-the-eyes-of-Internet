{
 "cells": [
  {
   "cell_type": "markdown",
   "id": "4cc77980-da46-4019-8b3f-5e7d2153fcbc",
   "metadata": {},
   "source": [
    "### Influential people's tweets impact on people's thoughts"
   ]
  },
  {
   "cell_type": "markdown",
   "id": "2c282f67-7bf7-41f2-803d-18c0c957efa4",
   "metadata": {},
   "source": [
    "##### The idea of this part of project is to explore how influential people (politicians, journalists, singers, actors, etc.) from different countries used tweeter during the coronavirus pandemic. To see the correlation between their tweets and the tweets of normal daily Twitter users and Wikipedia users we will use the results of the analysis done in the first part of the project.\n",
    "\n",
    "<br/>"
   ]
  },
  {
   "cell_type": "code",
   "execution_count": 57,
   "id": "ddf99c59-497d-4414-ba4e-dcbe7f4e4997",
   "metadata": {},
   "outputs": [],
   "source": [
    "import pandas as pd\n",
    "import numpy as np\n",
    "\n",
    "import json\n",
    "import pickle\n",
    "from datetime import datetime, timedelta\n",
    "\n",
    "# Twitter library\n",
    "import tweepy\n",
    "\n",
    "#Data visualization libraries\n",
    "import matplotlib.pyplot as plt\n",
    "import seaborn as sns\n",
    "%matplotlib inline"
   ]
  },
  {
   "cell_type": "markdown",
   "id": "e7863fa1-89d4-4302-8add-91ace2606ba5",
   "metadata": {},
   "source": [
    "<br/>\n",
    "We are using intervention data (from the given dataset coronawiki) and WHO dataset with number of new cases and deaths each day during pandemic in order to define periods of interest to analyse tweets for each country."
   ]
  },
  {
   "cell_type": "code",
   "execution_count": 10,
   "id": "87d3f1b6-19b3-49bc-8cda-a07ec6de7aae",
   "metadata": {},
   "outputs": [
    {
     "data": {
      "text/html": [
       "<div>\n",
       "<style scoped>\n",
       "    .dataframe tbody tr th:only-of-type {\n",
       "        vertical-align: middle;\n",
       "    }\n",
       "\n",
       "    .dataframe tbody tr th {\n",
       "        vertical-align: top;\n",
       "    }\n",
       "\n",
       "    .dataframe thead th {\n",
       "        text-align: right;\n",
       "    }\n",
       "</style>\n",
       "<table border=\"1\" class=\"dataframe\">\n",
       "  <thead>\n",
       "    <tr style=\"text-align: right;\">\n",
       "      <th></th>\n",
       "      <th>1st case</th>\n",
       "      <th>1st death</th>\n",
       "      <th>School closure</th>\n",
       "      <th>Public events banned</th>\n",
       "      <th>Lockdown</th>\n",
       "      <th>Mobility</th>\n",
       "      <th>Normalcy</th>\n",
       "    </tr>\n",
       "    <tr>\n",
       "      <th>lang</th>\n",
       "      <th></th>\n",
       "      <th></th>\n",
       "      <th></th>\n",
       "      <th></th>\n",
       "      <th></th>\n",
       "      <th></th>\n",
       "      <th></th>\n",
       "    </tr>\n",
       "  </thead>\n",
       "  <tbody>\n",
       "    <tr>\n",
       "      <th>fr</th>\n",
       "      <td>2020-01-24</td>\n",
       "      <td>2020-02-14</td>\n",
       "      <td>2020-03-14</td>\n",
       "      <td>2020-03-13</td>\n",
       "      <td>2020-03-17</td>\n",
       "      <td>2020-03-16</td>\n",
       "      <td>2020-07-02</td>\n",
       "    </tr>\n",
       "    <tr>\n",
       "      <th>da</th>\n",
       "      <td>2020-02-27</td>\n",
       "      <td>2020-03-12</td>\n",
       "      <td>2020-03-13</td>\n",
       "      <td>2020-03-12</td>\n",
       "      <td>2020-03-18</td>\n",
       "      <td>2020-03-11</td>\n",
       "      <td>2020-06-05</td>\n",
       "    </tr>\n",
       "    <tr>\n",
       "      <th>de</th>\n",
       "      <td>2020-01-27</td>\n",
       "      <td>2020-03-09</td>\n",
       "      <td>2020-03-14</td>\n",
       "      <td>2020-03-22</td>\n",
       "      <td>2020-03-22</td>\n",
       "      <td>2020-03-16</td>\n",
       "      <td>2020-07-10</td>\n",
       "    </tr>\n",
       "    <tr>\n",
       "      <th>it</th>\n",
       "      <td>2020-01-31</td>\n",
       "      <td>2020-02-22</td>\n",
       "      <td>2020-03-05</td>\n",
       "      <td>2020-03-09</td>\n",
       "      <td>2020-03-11</td>\n",
       "      <td>2020-03-11</td>\n",
       "      <td>2020-06-26</td>\n",
       "    </tr>\n",
       "    <tr>\n",
       "      <th>nl</th>\n",
       "      <td>2020-02-27</td>\n",
       "      <td>2020-03-06</td>\n",
       "      <td>2020-03-11</td>\n",
       "      <td>2020-03-24</td>\n",
       "      <td>NaT</td>\n",
       "      <td>2020-03-16</td>\n",
       "      <td>2020-05-29</td>\n",
       "    </tr>\n",
       "  </tbody>\n",
       "</table>\n",
       "</div>"
      ],
      "text/plain": [
       "       1st case  1st death School closure Public events banned   Lockdown  \\\n",
       "lang                                                                        \n",
       "fr   2020-01-24 2020-02-14     2020-03-14           2020-03-13 2020-03-17   \n",
       "da   2020-02-27 2020-03-12     2020-03-13           2020-03-12 2020-03-18   \n",
       "de   2020-01-27 2020-03-09     2020-03-14           2020-03-22 2020-03-22   \n",
       "it   2020-01-31 2020-02-22     2020-03-05           2020-03-09 2020-03-11   \n",
       "nl   2020-02-27 2020-03-06     2020-03-11           2020-03-24        NaT   \n",
       "\n",
       "       Mobility   Normalcy  \n",
       "lang                        \n",
       "fr   2020-03-16 2020-07-02  \n",
       "da   2020-03-11 2020-06-05  \n",
       "de   2020-03-16 2020-07-10  \n",
       "it   2020-03-11 2020-06-26  \n",
       "nl   2020-03-16 2020-05-29  "
      ]
     },
     "execution_count": 10,
     "metadata": {},
     "output_type": "execute_result"
    }
   ],
   "source": [
    "# Importing intervention dates for each country\n",
    "data_path = './data/'\n",
    "\n",
    "interventions = pd.read_csv(data_path + 'interventions.csv', delimiter=',', \n",
    "                            parse_dates=['1st case','1st death','School closure',\n",
    "                                         'Public events banned','Lockdown','Mobility','Normalcy'])\n",
    "\n",
    "interventions.set_index('lang', inplace = True)\n",
    "interventions.head()"
   ]
  },
  {
   "cell_type": "code",
   "execution_count": 56,
   "id": "622535d0-3abb-4909-82ac-538723cc5742",
   "metadata": {},
   "outputs": [
    {
     "data": {
      "text/html": [
       "<div>\n",
       "<style scoped>\n",
       "    .dataframe tbody tr th:only-of-type {\n",
       "        vertical-align: middle;\n",
       "    }\n",
       "\n",
       "    .dataframe tbody tr th {\n",
       "        vertical-align: top;\n",
       "    }\n",
       "\n",
       "    .dataframe thead th {\n",
       "        text-align: right;\n",
       "    }\n",
       "</style>\n",
       "<table border=\"1\" class=\"dataframe\">\n",
       "  <thead>\n",
       "    <tr style=\"text-align: right;\">\n",
       "      <th></th>\n",
       "      <th>Country_code</th>\n",
       "      <th>Country</th>\n",
       "      <th>WHO_region</th>\n",
       "      <th>New_cases</th>\n",
       "      <th>Cumulative_cases</th>\n",
       "      <th>New_deaths</th>\n",
       "      <th>Cumulative_deaths</th>\n",
       "    </tr>\n",
       "    <tr>\n",
       "      <th>Date_reported</th>\n",
       "      <th></th>\n",
       "      <th></th>\n",
       "      <th></th>\n",
       "      <th></th>\n",
       "      <th></th>\n",
       "      <th></th>\n",
       "      <th></th>\n",
       "    </tr>\n",
       "  </thead>\n",
       "  <tbody>\n",
       "    <tr>\n",
       "      <th>2020-01-03</th>\n",
       "      <td>AF</td>\n",
       "      <td>Afghanistan</td>\n",
       "      <td>EMRO</td>\n",
       "      <td>0</td>\n",
       "      <td>0</td>\n",
       "      <td>0</td>\n",
       "      <td>0</td>\n",
       "    </tr>\n",
       "    <tr>\n",
       "      <th>2020-01-04</th>\n",
       "      <td>AF</td>\n",
       "      <td>Afghanistan</td>\n",
       "      <td>EMRO</td>\n",
       "      <td>0</td>\n",
       "      <td>0</td>\n",
       "      <td>0</td>\n",
       "      <td>0</td>\n",
       "    </tr>\n",
       "    <tr>\n",
       "      <th>2020-01-05</th>\n",
       "      <td>AF</td>\n",
       "      <td>Afghanistan</td>\n",
       "      <td>EMRO</td>\n",
       "      <td>0</td>\n",
       "      <td>0</td>\n",
       "      <td>0</td>\n",
       "      <td>0</td>\n",
       "    </tr>\n",
       "    <tr>\n",
       "      <th>2020-01-06</th>\n",
       "      <td>AF</td>\n",
       "      <td>Afghanistan</td>\n",
       "      <td>EMRO</td>\n",
       "      <td>0</td>\n",
       "      <td>0</td>\n",
       "      <td>0</td>\n",
       "      <td>0</td>\n",
       "    </tr>\n",
       "    <tr>\n",
       "      <th>2020-01-07</th>\n",
       "      <td>AF</td>\n",
       "      <td>Afghanistan</td>\n",
       "      <td>EMRO</td>\n",
       "      <td>0</td>\n",
       "      <td>0</td>\n",
       "      <td>0</td>\n",
       "      <td>0</td>\n",
       "    </tr>\n",
       "  </tbody>\n",
       "</table>\n",
       "</div>"
      ],
      "text/plain": [
       "              Country_code      Country WHO_region  New_cases  \\\n",
       "Date_reported                                                   \n",
       "2020-01-03              AF  Afghanistan       EMRO          0   \n",
       "2020-01-04              AF  Afghanistan       EMRO          0   \n",
       "2020-01-05              AF  Afghanistan       EMRO          0   \n",
       "2020-01-06              AF  Afghanistan       EMRO          0   \n",
       "2020-01-07              AF  Afghanistan       EMRO          0   \n",
       "\n",
       "               Cumulative_cases  New_deaths  Cumulative_deaths  \n",
       "Date_reported                                                   \n",
       "2020-01-03                    0           0                  0  \n",
       "2020-01-04                    0           0                  0  \n",
       "2020-01-05                    0           0                  0  \n",
       "2020-01-06                    0           0                  0  \n",
       "2020-01-07                    0           0                  0  "
      ]
     },
     "execution_count": 56,
     "metadata": {},
     "output_type": "execute_result"
    }
   ],
   "source": [
    "who_data = pd.read_csv(data_path + 'WHO-COVID-19-global-data.csv', delimiter=',')\n",
    "\n",
    "who_data.set_index('Date_reported', inplace = True)\n",
    "who_data.head()"
   ]
  },
  {
   "cell_type": "markdown",
   "id": "9d315bc3-f96e-4293-b9d1-88aebd22b0cc",
   "metadata": {},
   "source": [
    "We are starting our analysis by defining lists containing the names of the analysed countries and the spoken languages in those contries. We will focus on Europian countires from the given dataset."
   ]
  },
  {
   "cell_type": "code",
   "execution_count": 15,
   "id": "d03e218e-10ca-4be8-81b1-57e2335c3fe3",
   "metadata": {},
   "outputs": [],
   "source": [
    "# List of countires and langugeges spoken in this countries\n",
    "countries = ['FR','DK','DE','IT','NL','NO','SE','RS','FI','GB']\n",
    "languages = ['fr','da','de','it','nl','no','sv','sr','fi','en']"
   ]
  },
  {
   "cell_type": "markdown",
   "id": "9f6b4cf4-c0b0-4bd7-9bca-bc108289dc1e",
   "metadata": {},
   "source": [
    "<br/>\n",
    "For the first stage, we will focus on retrieving tweets of influential people from Serbia and Italy (our homelands) for easier verification of the results."
   ]
  },
  {
   "cell_type": "code",
   "execution_count": 39,
   "id": "cd78be84-3a6e-4c36-bcb4-63df4d2ef74e",
   "metadata": {},
   "outputs": [],
   "source": [
    "# List of Twitter accounts of influental people from different countries\n",
    "serbian_influential_people = ['avucic', 'SerbianPM', 'DraganDjilas', 'MarinikaTepic', 'JugoslavCosic',\n",
    "                              'futomaki', 'VladoGeorgiev', 'brankica_st', 'OAmidzic']\n",
    "italian_influential_people = ['lorenzojova']"
   ]
  },
  {
   "cell_type": "code",
   "execution_count": 35,
   "id": "2228fe2d-40cc-47a4-b843-824a0f97c2e2",
   "metadata": {},
   "outputs": [],
   "source": [
    "# reading bearer tokens which we need to access Twitter API\n",
    "with open(data_path+'BearerTokens.json','r') as file:\n",
    "    bearer_tokens = json.load(file)"
   ]
  },
  {
   "cell_type": "code",
   "execution_count": 53,
   "id": "434b1eaa-ba5c-4cc1-960f-b8eac2c95baa",
   "metadata": {},
   "outputs": [
    {
     "name": "stdout",
     "output_type": "stream",
     "text": [
      "356450858 Александар Вучић avucic\n",
      "3036495555 Aна Брнабић SerbianPM\n",
      "205153283 Dragan Djilas DraganDjilas\n",
      "834073582514888710 Marinika Tepić MarinikaTepic\n",
      "2814717661 Jugoslav Ćosić JugoslavCosic\n",
      "181338564 Marija Serifovic futomaki\n",
      "41577631 Vlado Georgiev - Barba VladoGeorgiev\n",
      "1087237020 Brankica Stankovic brankica_st\n",
      "324198256 ognjen amidzic OAmidzic\n"
     ]
    }
   ],
   "source": [
    "client = tweepy.Client(bearer_token=bearer_tokens[\"maja\"], wait_on_rate_limit=True)\n",
    "\n",
    "# getting users accounts from twitter\n",
    "serbian_users = []\n",
    "for username in serbian_influential_people:\n",
    "    serbian_users.append(client.get_user(username=username))\n",
    "\n",
    "for user in serbian_users: print(user.data.id, user.data.name, user.data.username)"
   ]
  },
  {
   "cell_type": "markdown",
   "id": "5a93d787-9afb-4f30-9952-5a903355af48",
   "metadata": {},
   "source": [
    "<br/>\n",
    "We want to retrieve tweets from different periods during pandemic, but mostly focusing on weeks preceding intervention days or period with peeks in number of new cases and people's deaths."
   ]
  },
  {
   "cell_type": "code",
   "execution_count": null,
   "id": "07665e5f-b5e5-44a1-a4e3-5d71da5cc526",
   "metadata": {},
   "outputs": [],
   "source": []
  },
  {
   "cell_type": "code",
   "execution_count": null,
   "id": "fb090933-4932-4435-9bf0-f9b6547eeb45",
   "metadata": {},
   "outputs": [],
   "source": []
  },
  {
   "cell_type": "markdown",
   "id": "a39f3f95-32e2-4df2-95d5-70d9c2b41b78",
   "metadata": {},
   "source": [
    "For each tweet (or group of tweets) of users we would like to recognise to which topics tweets are related, what are most common used words in tweets and to check sentyment of the tweets. All of this can be useful to understand the way communication has changed during the pandemic and impacted people."
   ]
  },
  {
   "cell_type": "code",
   "execution_count": null,
   "id": "dcd9fd30-bac1-468d-aece-a7979a40be7b",
   "metadata": {},
   "outputs": [],
   "source": []
  },
  {
   "cell_type": "code",
   "execution_count": null,
   "id": "6e9e6974-5a25-414b-a509-ff217c32af9c",
   "metadata": {},
   "outputs": [],
   "source": []
  },
  {
   "cell_type": "code",
   "execution_count": null,
   "id": "b44a15c2-d221-45cb-be23-86a9b093650c",
   "metadata": {},
   "outputs": [],
   "source": []
  }
 ],
 "metadata": {
  "kernelspec": {
   "display_name": "Python [conda env:ada] *",
   "language": "python",
   "name": "conda-env-ada-py"
  },
  "language_info": {
   "codemirror_mode": {
    "name": "ipython",
    "version": 3
   },
   "file_extension": ".py",
   "mimetype": "text/x-python",
   "name": "python",
   "nbconvert_exporter": "python",
   "pygments_lexer": "ipython3",
   "version": "3.9.13"
  }
 },
 "nbformat": 4,
 "nbformat_minor": 5
}
