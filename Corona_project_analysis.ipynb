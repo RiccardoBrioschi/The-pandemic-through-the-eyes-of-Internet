{
 "cells": [
  {
   "cell_type": "markdown",
   "id": "cf615dec",
   "metadata": {},
   "source": [
    "## PART 1"
   ]
  },
  {
   "cell_type": "markdown",
   "id": "72af4053",
   "metadata": {},
   "source": [
    "In this frst part, we want to randomly retrieve tweets posted by people during the pandemic. The way we use to retrieve tweets\n",
    "aims at obtaining a sample which is the least possible biased. After retrieving data for each country ( in this first analysis\n",
    "we start with Serbia and Italy, out homelands, to test the scalability and feasibility of our ideas), we want to classify them according to\n",
    "the topic they present. We are interested in analysing which have been the most discussed topics to see if we get result\n",
    "similar to those shown in CoronaWiki dataset. We think this is a good way to start analysing how people's interests shifted, how people reacted to the situation and how communication has been affected by COVID-19"
   ]
  },
  {
   "cell_type": "code",
   "execution_count": 163,
   "id": "b3b5ac6c",
   "metadata": {},
   "outputs": [
    {
     "name": "stderr",
     "output_type": "stream",
     "text": [
      "[nltk_data] Downloading package stopwords to\n",
      "[nltk_data]     C:\\Users\\ricca\\AppData\\Roaming\\nltk_data...\n",
      "[nltk_data]   Package stopwords is already up-to-date!\n"
     ]
    }
   ],
   "source": [
    "# Useful libraries\n",
    "import pandas as pd\n",
    "import json\n",
    "import re\n",
    "import pickle\n",
    "from datetime import datetime\n",
    "\n",
    "# Twitter library\n",
    "import tweepy\n",
    "\n",
    "# Math libraries\n",
    "import numpy as np\n",
    "\n",
    "#Data visualization libraries\n",
    "import matplotlib.pyplot as plt\n",
    "import seaborn as sns\n",
    "%matplotlib inline\n",
    "\n",
    "# Natural language processing libraries\n",
    "import nltk\n",
    "import string\n",
    "from nltk.corpus import stopwords\n",
    "from nltk.tokenize import TweetTokenizer\n",
    "from nltk.stem import PorterStemmer, WordNetLemmatizer\n",
    "from textblob import TextBlob # to compute sentiment analysis on each tweet\n",
    "\n",
    "nltk.download('stopwords')\n",
    "\n",
    "# Libray to infer the topics discussed in each tweet\n",
    "from empath import Empath\n",
    "lexicon = Empath()\n"
   ]
  },
  {
   "cell_type": "markdown",
   "id": "98b18b9e",
   "metadata": {},
   "source": [
    "#### TWEETS DATASET CREATION"
   ]
  },
  {
   "cell_type": "markdown",
   "id": "5ac6a795",
   "metadata": {},
   "source": [
    "We start by creating lists containing the names of the analysed countries and the spoken languages."
   ]
  },
  {
   "cell_type": "code",
   "execution_count": 85,
   "id": "1bcbaf5e",
   "metadata": {},
   "outputs": [],
   "source": [
    "# We define lists containing the names and the spoken languages in each country\n",
    "# france, danimark, germany, italy, netherlands, normway, sweden, serbia, finland, england\n",
    "countries = ['FR','DK','DE','IT','NL','NO','SE','RS','FI','GB']\n",
    "languages = ['fr','da','de','it','nl','no','sv','sr','fi','en']\n",
    "period_per_countries = {}"
   ]
  },
  {
   "cell_type": "markdown",
   "id": "688c7adf",
   "metadata": {},
   "source": [
    "In order to compute our analysis, we need to define a period of time during the pandemic. We use pagelogs data in order to define this period of interest for each country. We start retrieving data from 01/12/2019 since it is reported as the official starting date from the pandemic."
   ]
  },
  {
   "cell_type": "code",
   "execution_count": 86,
   "id": "91eac45e",
   "metadata": {},
   "outputs": [],
   "source": [
    "# Importing time series\n",
    "data_path = './data/'\n",
    "with open(data_path+'aggregated_timeseries.json','r') as file:\n",
    "    pagelogs_time_series = json.load(file)"
   ]
  },
  {
   "cell_type": "code",
   "execution_count": 87,
   "id": "6fce0b70",
   "metadata": {},
   "outputs": [],
   "source": [
    "# Defining period of interest for each country. Dates are retrieved starting from 01/12/2019\n",
    "for idx,country in enumerate(countries):\n",
    "    lang = languages[idx]\n",
    "    dates = [datetime.strptime(date.split()[0], '%Y-%m-%d')  for date in list(pagelogs_time_series[lang]['sum'].keys())]\n",
    "    dates = [date for date in dates if (date.year >= 2020 or (date.year == 2019 and date.month == 12))]\n",
    "    period_per_countries[country] = dates"
   ]
  },
  {
   "cell_type": "markdown",
   "id": "4f7ffc15",
   "metadata": {},
   "source": [
    "We want to retrieve tweets on a daily basis. In order to reduce the bias in our data, we decide to retrieve tweets in different moments of the day which are randomly chosen. Since most of the activity was during the afternoon, we want to give more weights to these hours. "
   ]
  },
  {
   "cell_type": "code",
   "execution_count": 88,
   "id": "bb533ad7",
   "metadata": {},
   "outputs": [],
   "source": [
    "# Defining a hour time window to retrieve data\n",
    "hours = [11,12,13,14,15,16,17,18,19,20]\n",
    "# We want to give more weights to part of the day closer to dinner / late afternoon. So we assign them a higher weights\n",
    "weights = np.ones(len(hours)) / 15\n",
    "weights[-5:] = weights[-5:]*2"
   ]
  },
  {
   "cell_type": "markdown",
   "id": "2d4f4b36",
   "metadata": {},
   "source": [
    "Since we are interested in finding analogies between the topics discussed on Twittr and the pages visited on Wikipedia, we need to define a list of topics with respect to which we are going to classify each retrieved tweet. In order to do so, we use the file 'topics_linked.csv'. Considering that we use empath library to compute the classification of each text, we define a set of topics which is as equivalent as possible to the one reported in teh file."
   ]
  },
  {
   "cell_type": "code",
   "execution_count": 89,
   "id": "d431e9c2",
   "metadata": {},
   "outputs": [
    {
     "data": {
      "text/plain": [
       "Index(['index', 'Geography.Regions.Asia.Central Asia',\n",
       "       'Geography.Regions.Europe.Eastern Europe',\n",
       "       'History and Society.Military and warfare', 'Culture.Media.Television',\n",
       "       'History and Society.Education', 'Culture.Media.Books',\n",
       "       'Geography.Regions.Africa.Africa*', 'Culture.Visual arts.Architecture',\n",
       "       'Culture.Biography.Women', 'Geography.Regions.Americas.North America',\n",
       "       'STEM.STEM*', 'Culture.Performing arts', 'Culture.Literature',\n",
       "       'History and Society.Politics and government',\n",
       "       'Geography.Regions.Africa.Northern Africa',\n",
       "       'STEM.Earth and environment', 'Geography.Regions.Africa.Central Africa',\n",
       "       'STEM.Medicine & Health', 'STEM.Libraries & Information',\n",
       "       'Geography.Regions.Europe.Europe*',\n",
       "       'Geography.Regions.Europe.Western Europe', 'Culture.Media.Radio',\n",
       "       'STEM.Space', 'Culture.Visual arts.Comics and Anime', 'STEM.Technology',\n",
       "       'Culture.Internet culture', 'Culture.Media.Software',\n",
       "       'Geography.Regions.Asia.East Asia',\n",
       "       'Geography.Regions.Europe.Southern Europe', 'STEM.Biology',\n",
       "       'Culture.Food and drink', 'History and Society.Business and economics',\n",
       "       'Culture.Visual arts.Fashion',\n",
       "       'Geography.Regions.Americas.Central America', 'Geography.Geographical',\n",
       "       'Geography.Regions.Oceania', 'STEM.Physics', 'Culture.Media.Films',\n",
       "       'Geography.Regions.Asia.South Asia',\n",
       "       'History and Society.Transportation', 'History and Society.History',\n",
       "       'Geography.Regions.Africa.Western Africa', 'Culture.Media.Media*',\n",
       "       'Geography.Regions.Americas.South America', 'Culture.Linguistics',\n",
       "       'STEM.Computing', 'Culture.Biography.Biography*',\n",
       "       'Culture.Philosophy and religion', 'Culture.Sports',\n",
       "       'Geography.Regions.Africa.Southern Africa',\n",
       "       'Culture.Visual arts.Visual arts*',\n",
       "       'Geography.Regions.Africa.Eastern Africa',\n",
       "       'History and Society.Society', 'STEM.Engineering', 'STEM.Mathematics',\n",
       "       'Geography.Regions.Asia.West Asia', 'STEM.Chemistry',\n",
       "       'Geography.Regions.Europe.Northern Europe', 'Culture.Media.Video games',\n",
       "       'Geography.Regions.Asia.Southeast Asia', 'Culture.Media.Entertainment',\n",
       "       'Culture.Media.Music', 'Geography.Regions.Asia.Asia*',\n",
       "       'Geography.Regions.Asia.North Asia', 'qid'],\n",
       "      dtype='object')"
      ]
     },
     "execution_count": 89,
     "metadata": {},
     "output_type": "execute_result"
    }
   ],
   "source": [
    "provided_topics = pd.read_csv('./Data/topics_linked.csv',delimiter = ',')\n",
    "provided_topics.columns"
   ]
  },
  {
   "cell_type": "markdown",
   "id": "c26092c1",
   "metadata": {},
   "source": [
    "After reading the categories offered by empath library at  https://github.com/Ejhfast/empath-client/blob/master/empath/data/categories.tsv, we report the ones we decide to use."
   ]
  },
  {
   "cell_type": "code",
   "execution_count": 144,
   "id": "2714c11f",
   "metadata": {},
   "outputs": [],
   "source": [
    "topics = ['help','medical_emergency','health','government','school','kill','art','play','computer',\n",
    "         'home','business','religion','sports','death','military','music','science','fun','economics',\n",
    "         'technology','philosophy','geography','tv','architecture']"
   ]
  },
  {
   "cell_type": "markdown",
   "id": "e887d6d4",
   "metadata": {},
   "source": [
    "topics = categories = [\"money\",\"family\",\"health\",\"nervousness\",\"government\",\n",
    "                                                        \"suffering\",\"optimism\",\"fear\",\n",
    "                                                         \"death\",\"science\",\"scientists\",\"sadness\",\n",
    "                                                         \"joy\",\"economics\",\"politics\",\"anger\",\"pain\",\n",
    "                                                         \"negative_emotion\",\"law\",\"achievement\",\"contentment\",\n",
    "                                                         \"positive_emotion\", \"sport\", \"technology\", \"restaurant\", \"travel\", \"school\",\n",
    "                                                         \"grandparent\", \"medical_emergency\", \"emergency\", \"hospital\", \"flu\", \"pharmacy\",\n",
    "                                                         \"pneumonia\", \"infection\", \"fever\"]"
   ]
  },
  {
   "cell_type": "markdown",
   "id": "e5600491",
   "metadata": {},
   "source": [
    "We now proceed to define two helper functions that create and import the needed dataframes. As said before, we start working on tweets posted by italian and serbian people to verify the goodness of our approach. For Milestone3, we will focus on a bigger number of countries.\n",
    "Notice that, in order to filter the tweets we retrieve, we set a specific query."
   ]
  },
  {
   "cell_type": "code",
   "execution_count": 127,
   "id": "f824d3ff",
   "metadata": {},
   "outputs": [],
   "source": [
    "def create_dataframe(name_country,language,period_of_interest,time_window = hours, prob = weights, skip_day = 1):\n",
    "    \n",
    "    # Initialize the stemmer\n",
    "    stemmer = PorterStemmer()\n",
    "    lexicon = Empath()\n",
    "    # Defining a list of topics based on Coronawiki Dataset\n",
    "    topics = []\n",
    "    # Defining support structure\n",
    "    new_data = []\n",
    "    output_path = './output/'+name_country+'_tweets.pkl'\n",
    "    \n",
    "    # We initialize tweepy \n",
    "    bearer_token_balsa = \"AAAAAAAAAAAAAAAAAAAAAPXlYgEAAAAAmHO9bfJYAPCZSDa8%2BHELxeAfwgQ%3D91B98esE93293wEGbjH4JsUMe7R3wDok1ZCGNGLLvvQXzNcyBE\"\n",
    "    client = tweepy.Client(bearer_token=bearer_token_balsa, wait_on_rate_limit=True)\n",
    "    \n",
    "    for idx in range(0,len(period_of_interest[name_country]), skip_day):\n",
    "        # We randomly choose the time of the day to retrieve tweets\n",
    "        random_hour = np.random.choice(hours,p = weights)\n",
    "        date = period_of_interest[name_country][idx]\n",
    "        \n",
    "        # We define start and end time to retrieve (then passed as inputs for twitter.API)\n",
    "        start_time = datetime(date.year,date.month,date.day,random_hour)\n",
    "        end_time = datetime(date.year,date.month,date.day,random_hour+2)\n",
    "        \n",
    "        # We define a proper wuery to get tweets from the country we're interested in\n",
    "        query = \" place_country:{} lang:{} -is:retweet -has:links -has:media -has:images \\\n",
    "                                    -has:video_link -has:mentions\".format(name_country,language)\n",
    "        tweets = client.search_all_tweets( query, max_results = 10, \n",
    "                                     start_time = start_time, end_time = end_time,\n",
    "                                          tweet_fields  = ['text','context_annotations'])\n",
    "        \n",
    "        # We perform basic preprocessing operations on the text (translation and removal of punctuations)\n",
    "        for tweet in tweets.data:\n",
    "            if language != 'en':\n",
    "                text = translator.translate(tweet.text)\n",
    "            else:\n",
    "                text = tweet.text\n",
    "            # We remove punctuation\n",
    "            text = (\"\".join([ch for ch in text if ch not in string.punctuation])).lower()\n",
    "            # We remove numbers\n",
    "            text = re.sub(\"\\d+\", \"\",text).strip()\n",
    "            # We compute sentiment analysis on the given text\n",
    "            text_sentiment = TextBlob(text).sentiment\n",
    "            text_polarity, text_subjectivity = text_sentiment.polarity, text_sentiment.subjectivity\n",
    "            # We tokenize the tweet to make the work easier\n",
    "            tokenized_stemmed_version = nltk.word_tokenize(text)\n",
    "            tokenized_stemmed_version = [stemmer.stem(word) for word in tokenized_stemmed_version]\n",
    "            # Saving new datapoint in new_data list\n",
    "            if len(text) > 0:\n",
    "                new_data.append([date,language,text,tokenized_stemmed_version,\n",
    "                             tweet.context_annotations,text_polarity,text_subjectivity])\n",
    "            \n",
    "        # We create the dataframe\n",
    "        df = pd.DataFrame(new_data, columns = ['date','language','tweet','tokenized_tweet_list',\n",
    "                                               'context_from_Twitter','polarity','subjectivity'])\n",
    "        df.to_pickle(output_path)\n",
    "        \n",
    "        \n",
    "def get_dataframe(name_country):\n",
    "    get_path = './output/'+name_country+'_tweets.pkl'\n",
    "    return pd.read_pickle(get_path)\n",
    "        "
   ]
  },
  {
   "cell_type": "markdown",
   "id": "19cd3056",
   "metadata": {},
   "source": [
    "#### TEST USING ENGLISH TWEETS. AFTER MONDAY THE ANALYSES WILL BE DONE USING ITALIAN AND SERBIAN TWEETS"
   ]
  },
  {
   "cell_type": "code",
   "execution_count": 156,
   "id": "b845073f",
   "metadata": {
    "scrolled": true
   },
   "outputs": [
    {
     "data": {
      "text/html": [
       "<div>\n",
       "<style scoped>\n",
       "    .dataframe tbody tr th:only-of-type {\n",
       "        vertical-align: middle;\n",
       "    }\n",
       "\n",
       "    .dataframe tbody tr th {\n",
       "        vertical-align: top;\n",
       "    }\n",
       "\n",
       "    .dataframe thead th {\n",
       "        text-align: right;\n",
       "    }\n",
       "</style>\n",
       "<table border=\"1\" class=\"dataframe\">\n",
       "  <thead>\n",
       "    <tr style=\"text-align: right;\">\n",
       "      <th></th>\n",
       "      <th>date</th>\n",
       "      <th>language</th>\n",
       "      <th>tweet</th>\n",
       "      <th>tokenized_tweet_list</th>\n",
       "      <th>context_from_Twitter</th>\n",
       "      <th>polarity</th>\n",
       "      <th>subjectivity</th>\n",
       "    </tr>\n",
       "  </thead>\n",
       "  <tbody>\n",
       "    <tr>\n",
       "      <th>0</th>\n",
       "      <td>2020-04-29</td>\n",
       "      <td>en</td>\n",
       "      <td>i know theres a lot more serious issues going ...</td>\n",
       "      <td>[i, know, there, a, lot, more, seriou, issu, g...</td>\n",
       "      <td>[]</td>\n",
       "      <td>-0.0375</td>\n",
       "      <td>0.462500</td>\n",
       "    </tr>\n",
       "    <tr>\n",
       "      <th>1</th>\n",
       "      <td>2020-04-29</td>\n",
       "      <td>en</td>\n",
       "      <td>zak if mum throws a wobbly i dont witness repl...</td>\n",
       "      <td>[zak, if, mum, throw, a, wobbl, i, dont, wit, ...</td>\n",
       "      <td>[]</td>\n",
       "      <td>0.0000</td>\n",
       "      <td>0.000000</td>\n",
       "    </tr>\n",
       "    <tr>\n",
       "      <th>2</th>\n",
       "      <td>2020-04-29</td>\n",
       "      <td>en</td>\n",
       "      <td>i have put on  stone and my hair looks like sa...</td>\n",
       "      <td>[i, have, put, on, stone, and, my, hair, look,...</td>\n",
       "      <td>[]</td>\n",
       "      <td>0.0000</td>\n",
       "      <td>0.000000</td>\n",
       "    </tr>\n",
       "    <tr>\n",
       "      <th>3</th>\n",
       "      <td>2020-04-29</td>\n",
       "      <td>en</td>\n",
       "      <td>okay imma livestream my rehearsals for the eur...</td>\n",
       "      <td>[okay, imma, livestream, my, rehears, for, the...</td>\n",
       "      <td>[]</td>\n",
       "      <td>-0.1000</td>\n",
       "      <td>0.583333</td>\n",
       "    </tr>\n",
       "    <tr>\n",
       "      <th>4</th>\n",
       "      <td>2020-04-29</td>\n",
       "      <td>en</td>\n",
       "      <td>it’s out on the japanese nintendo switch store...</td>\n",
       "      <td>[it, ’, s, out, on, the, japanes, nintendo, sw...</td>\n",
       "      <td>[{'domain': {'id': '45', 'name': 'Brand Vertic...</td>\n",
       "      <td>0.0000</td>\n",
       "      <td>0.000000</td>\n",
       "    </tr>\n",
       "  </tbody>\n",
       "</table>\n",
       "</div>"
      ],
      "text/plain": [
       "        date language                                              tweet  \\\n",
       "0 2020-04-29       en  i know theres a lot more serious issues going ...   \n",
       "1 2020-04-29       en  zak if mum throws a wobbly i dont witness repl...   \n",
       "2 2020-04-29       en  i have put on  stone and my hair looks like sa...   \n",
       "3 2020-04-29       en  okay imma livestream my rehearsals for the eur...   \n",
       "4 2020-04-29       en  it’s out on the japanese nintendo switch store...   \n",
       "\n",
       "                                tokenized_tweet_list  \\\n",
       "0  [i, know, there, a, lot, more, seriou, issu, g...   \n",
       "1  [zak, if, mum, throw, a, wobbl, i, dont, wit, ...   \n",
       "2  [i, have, put, on, stone, and, my, hair, look,...   \n",
       "3  [okay, imma, livestream, my, rehears, for, the...   \n",
       "4  [it, ’, s, out, on, the, japanes, nintendo, sw...   \n",
       "\n",
       "                                context_from_Twitter  polarity  subjectivity  \n",
       "0                                                 []   -0.0375      0.462500  \n",
       "1                                                 []    0.0000      0.000000  \n",
       "2                                                 []    0.0000      0.000000  \n",
       "3                                                 []   -0.1000      0.583333  \n",
       "4  [{'domain': {'id': '45', 'name': 'Brand Vertic...    0.0000      0.000000  "
      ]
     },
     "execution_count": 156,
     "metadata": {},
     "output_type": "execute_result"
    }
   ],
   "source": [
    "periodo = {}\n",
    "periodo['GB'] = period_per_countries['GB'][150:152]\n",
    "create_dataframe('GB','en',periodo)\n",
    "df = get_dataframe('GB')\n",
    "df.head()"
   ]
  },
  {
   "cell_type": "markdown",
   "id": "87df06d3",
   "metadata": {},
   "source": [
    "We now proceed to plot the most discussed topics based on the classification made using empath library."
   ]
  },
  {
   "cell_type": "code",
   "execution_count": 164,
   "id": "690b67fa",
   "metadata": {
    "scrolled": true
   },
   "outputs": [
    {
     "data": {
      "text/plain": [
       "Text(0.5, 0, 'Normalized Score')"
      ]
     },
     "execution_count": 164,
     "metadata": {},
     "output_type": "execute_result"
    },
    {
     "data": {
      "image/png": "[encoded data removed]",
      "text/plain": [
       "<Figure size 640x480 with 1 Axes>"
      ]
     },
     "metadata": {},
     "output_type": "display_data"
    }
   ],
   "source": [
    "fig,ax = plt.subplots(1)\n",
    "\n",
    "# We infer the topics discussed in the retrieved tweets\n",
    "classified_topics = pd.DataFrame([lexicon.analyze(df.tweet.str.cat(sep = ' '),categories = topics, \n",
    "                                                  normalize = True)], index = ['EN']).T\n",
    "\n",
    "classified_topics = classified_topics.sort_values(by = ['EN'], ascending = False)\n",
    "classified_topics.reset_index(inplace = True)\n",
    "sns.barplot(data = classified_topics, x = 'EN', y = 'index')\n",
    "plt.ylabel('Topics', fontsize = 14)\n",
    "plt.title('Topics discussed in GB during the analysed period')\n",
    "plt.ylabel('Categories')\n",
    "plt.xlabel('Normalized Score')\n"
   ]
  }
 ],
 "metadata": {
  "kernelspec": {
   "display_name": "Python 3 (ipykernel)",
   "language": "python",
   "name": "python3"
  },
  "language_info": {
   "codemirror_mode": {
    "name": "ipython",
    "version": 3
   },
   "file_extension": ".py",
   "mimetype": "text/x-python",
   "name": "python",
   "nbconvert_exporter": "python",
   "pygments_lexer": "ipython3",
   "version": "3.9.13"
  }
 },
 "nbformat": 4,
 "nbformat_minor": 5
}
