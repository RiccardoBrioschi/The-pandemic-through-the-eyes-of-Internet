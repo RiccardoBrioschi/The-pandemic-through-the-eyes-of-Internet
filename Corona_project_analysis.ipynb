{
 "cells": [
  {
   "cell_type": "markdown",
   "id": "cf615dec",
   "metadata": {},
   "source": [
    "#### PART1: RETRIEVING TWEETS FROM RANDOM PEOPLE TO ANALYSE THE INTERESTS OF THE POPULATION"
   ]
  },
  {
   "cell_type": "code",
   "execution_count": 1,
   "id": "373a65ef",
   "metadata": {},
   "outputs": [],
   "source": [
    "import pandas as pd\n",
    "import numpy as np\n",
    "from textblob import TextBlob\n",
    "from datetime import datetime, date, time\n",
    "import tweepy\n",
    "import json"
   ]
  },
  {
   "cell_type": "code",
   "execution_count": 2,
   "id": "40772392",
   "metadata": {},
   "outputs": [],
   "source": [
    "bearer_token_balsa = \"AAAAAAAAAAAAAAAAAAAAAPXlYgEAAAAAmHO9bfJYAPCZSDa8%2BHELxeAfwgQ%3D91B98esE93293wEGbjH4JsUMe7R3wDok1ZCGNGLLvvQXzNcyBE\"\n",
    "client = tweepy.Client(bearer_token=bearer_token_balsa, wait_on_rate_limit=True)"
   ]
  },
  {
   "cell_type": "code",
   "execution_count": 3,
   "id": "3d54b4ac",
   "metadata": {},
   "outputs": [],
   "source": [
    "# Importing time series\n",
    "data_path = './data/'\n",
    "with open(data_path+'aggregated_timeseries.json','r') as file:\n",
    "    time_series = json.load(file)"
   ]
  },
  {
   "cell_type": "code",
   "execution_count": 4,
   "id": "f788ee8b",
   "metadata": {},
   "outputs": [],
   "source": [
    "# france, danimark, germany, italy, netherlands, normway, sweden, serbia, finland, england\n",
    "countries = ['FR','DK','DE','IT','NL','NO','SE','RS','FI','UK']\n",
    "languages = ['fr','da','de','it','nl','no','sv','sr','fi','en']\n",
    "period_per_countries = {}"
   ]
  },
  {
   "cell_type": "code",
   "execution_count": 5,
   "id": "a47c883c",
   "metadata": {},
   "outputs": [],
   "source": [
    "# Defining period of interest for each country. Dates are retrieved starting from 01/12/2019\n",
    "for idx,country in enumerate(countries):\n",
    "    lang = languages[idx]\n",
    "    dates = [datetime.strptime(date.split()[0], '%Y-%m-%d')  for date in list(time_series[lang]['sum'].keys())]\n",
    "    dates = [date for date in dates if date.year >= 2020 or (date.year == 2019 and date.month == 12)]\n",
    "    period_per_countries[country] = dates"
   ]
  },
  {
   "cell_type": "code",
   "execution_count": 7,
   "id": "7bf3d9e1",
   "metadata": {},
   "outputs": [],
   "source": [
    "# Defining a hour time window to retrieve data\n",
    "hours = [11,12,13,14,15,16,17,18,19,20]\n",
    "# We want to give more weights to part of the day closer to dinner / late afternoon -> they will count twice the other\n",
    "weights = np.ones(len(hours)) / 15\n",
    "weights[-5:] = weights[-5:]*2"
   ]
  },
  {
   "cell_type": "markdown",
   "id": "429d2a01",
   "metadata": {},
   "source": [
    "#### Do not run"
   ]
  },
  {
   "cell_type": "code",
   "execution_count": 9,
   "id": "c51f8e44",
   "metadata": {},
   "outputs": [],
   "source": [
    "random_hour = np.random.choice(hours,p = weights)\n",
    "date = period_per_countries['IT'][100]\n",
    "start_time = datetime(date.year,date.month,date.day,random_hour)\n",
    "end_time = datetime(date.year,date.month,date.day,random_hour+2)\n",
    "tweets = client.search_all_tweets(\" COVID lang:en place_country: GB\", max_results = 10,\n",
    "                                     start_time = start_time, end_time = end_time)"
   ]
  },
  {
   "cell_type": "code",
   "execution_count": 10,
   "id": "0635f801",
   "metadata": {},
   "outputs": [
    {
     "name": "stdout",
     "output_type": "stream",
     "text": [
      "None Corona Hysteria Syndrome is actually worse than the virus itself ! \n",
      "\n",
      "https://t.co/8qauTPebAI\n",
      "None Infamous for being a super-spreader of disinformation, could @Nigel_Farage brought COVID-19 onto the @BBCNewsnight set last night? https://t.co/bDUHsd4wdE\n",
      "None @jamesrbuk Hmm. But, and hear me out, if Jesus is God and God is omnipotent then Jesus IS COVID-19. Admittedly that requires faith in the Holy Trinity.\n",
      "None Take urgent steps to help the NHS prepare for COVID-19 - Sign the Petition! https://t.co/4JMpPf4Ykj via @UKChange\n",
      "None ❌🤝\n",
      "\n",
      "Please note there will be no pre-match handshakes before tonight’s tie with @UCCSoccer due to the Covid-19 outbreak\n",
      "\n",
      "#CRFC https://t.co/cD2SYXerVA\n",
      "None With so much hype in the news about Covid-19, I thought a post on fighting off the lurgy would be appropriate.   Here are my top 5 tips on keeping healthy throughout the cold &amp; flu season:\n",
      "\n",
      "1. Make sure you maintain… https://t.co/UnSC57GnRN\n",
      "None Self-isolation advice - NHS\n",
      "\n",
      "Self-isolation advice\n",
      "- #Coronavirus (COVID-19)\n",
      "\n",
      "https://t.co/mKFYHAoXcf\n",
      "None COVID-19 is now a BIG DEAL!\n",
      "None Self-isolation advice - NHS\n",
      "\n",
      "Self-isolation advice\n",
      "- #Coronavirus (COVID-19)\n",
      "\n",
      "https://t.co/pyaEq49HTx\n",
      "None Self-isolation advice - NHS\n",
      "\n",
      "Self-isolation advice\n",
      "- #Coronavirus (COVID-19)\n",
      "\n",
      "https://t.co/m5s2osZl6J\n"
     ]
    }
   ],
   "source": [
    "for tweet in tweets.data:\n",
    "    print(tweet.created_at, tweet.text)"
   ]
  },
  {
   "cell_type": "code",
   "execution_count": 11,
   "id": "86887c67",
   "metadata": {},
   "outputs": [
    {
     "name": "stdout",
     "output_type": "stream",
     "text": [
      "-0.5\n",
      "-0.25\n",
      "0.0\n",
      "0.0\n",
      "-0.125\n",
      "0.26666666666666666\n",
      "0.0\n",
      "0.0\n",
      "0.0\n",
      "0.0\n"
     ]
    }
   ],
   "source": [
    "for tweet in tweets.data:\n",
    "    print(TextBlob(tweet.text).sentiment.polarity)"
   ]
  }
 ],
 "metadata": {
  "kernelspec": {
   "display_name": "Python 3 (ipykernel)",
   "language": "python",
   "name": "python3"
  },
  "language_info": {
   "codemirror_mode": {
    "name": "ipython",
    "version": 3
   },
   "file_extension": ".py",
   "mimetype": "text/x-python",
   "name": "python",
   "nbconvert_exporter": "python",
   "pygments_lexer": "ipython3",
   "version": "3.9.13"
  }
 },
 "nbformat": 4,
 "nbformat_minor": 5
}
